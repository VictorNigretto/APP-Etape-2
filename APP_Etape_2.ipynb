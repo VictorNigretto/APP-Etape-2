{
  "nbformat": 4,
  "nbformat_minor": 0,
  "metadata": {
    "colab": {
      "name": "APP Etape 2",
      "provenance": []
    },
    "kernelspec": {
      "name": "python3",
      "display_name": "Python 3"
    },
    "accelerator": "GPU"
  },
  "cells": [
    {
      "cell_type": "code",
      "metadata": {
        "id": "nPrvutFyzGQy"
      },
      "source": [
        "import os\r\n",
        "import shutil\r\n",
        "from tensorflow.python.client import device_lib\r\n",
        "import keras\r\n",
        "from keras import layers, models, optimizers\r\n",
        "from keras.layers.convolutional import Conv2D, MaxPooling2D\r\n",
        "from keras.layers import Dense, Flatten, Dropout, Input\r\n",
        "from keras.applications.vgg16 import VGG16, preprocess_input\r\n",
        "from tensorflow.keras.applications import EfficientNetB7, ResNet50\r\n",
        "from keras.preprocessing import image\r\n",
        "from keras.models import Model\r\n",
        "import pandas as pd\r\n",
        "import tensorflow as tf\r\n",
        "import numpy as np\r\n",
        "from keras.preprocessing.image import load_img\r\n",
        "from PIL import Image\r\n",
        "import os\r\n",
        "import shutil\r\n",
        "\r\n",
        "import matplotlib.pyplot as plt"
      ],
      "execution_count": 1,
      "outputs": []
    },
    {
      "cell_type": "code",
      "metadata": {
        "colab": {
          "base_uri": "https://localhost:8080/"
        },
        "id": "tY-eAP0O0O12",
        "outputId": "259bd6a7-c1f0-4150-843b-b1c8688b3a0e"
      },
      "source": [
        "# Dataset personnes\r\n",
        "!git clone https://gitlab.enseeiht.fr/aandre2/Dataset_Market-1501-v15.09.15\r\n",
        "\r\n",
        "# Dataset pokemons\r\n",
        "!git clone https://gitlab.enseeiht.fr/nurbani/dataset-pokemon\r\n"
      ],
      "execution_count": 2,
      "outputs": [
        {
          "output_type": "stream",
          "text": [
            "Cloning into 'Dataset_Market-1501-v15.09.15'...\n",
            "warning: redirecting to https://gitlab.enseeiht.fr/aandre2/Dataset_Market-1501-v15.09.15.git/\n",
            "remote: Counting objects: 77323, done.\u001b[K\n",
            "remote: Compressing objects: 100% (70371/70371), done.\u001b[K\n",
            "remote: Total 77323 (delta 6952), reused 77323 (delta 6952)\u001b[K\n",
            "Receiving objects: 100% (77323/77323), 129.42 MiB | 419.00 KiB/s, done.\n",
            "Resolving deltas: 100% (6952/6952), done.\n",
            "Checking out files: 100% (143817/143817), done.\n",
            "Cloning into 'dataset-pokemon'...\n",
            "warning: redirecting to https://gitlab.enseeiht.fr/nurbani/dataset-pokemon.git/\n",
            "remote: Counting objects: 26364, done.\u001b[K\n",
            "remote: Compressing objects: 100% (25090/25090), done.\u001b[K\n",
            "remote: Total 26364 (delta 1274), reused 26364 (delta 1274)\u001b[K\n",
            "Receiving objects: 100% (26364/26364), 26.87 MiB | 420.00 KiB/s, done.\n",
            "Resolving deltas: 100% (1274/1274), done.\n"
          ],
          "name": "stdout"
        }
      ]
    },
    {
      "cell_type": "markdown",
      "metadata": {
        "id": "aBVyD65iAUj6"
      },
      "source": [
        "On commence par les chemins"
      ]
    },
    {
      "cell_type": "code",
      "metadata": {
        "id": "zEW4cZba4KH9"
      },
      "source": [
        "path_pokemon = \"/content/dataset-pokemon/\""
      ],
      "execution_count": 3,
      "outputs": []
    },
    {
      "cell_type": "code",
      "metadata": {
        "id": "FgzVLXTw4mRK"
      },
      "source": [
        "#Chemin vers les pokemon qu'on va utiliser\r\n",
        "pokemon_1G_red_blue = os.listdir(path_pokemon + '1G-red-blue')[:151]\r\n",
        "pokemon_1G_red_green = os.listdir(path_pokemon + '1G-red-green')[:151]\r\n",
        "pokemon_1G_yellow = os.listdir(path_pokemon + '1G-yellow')[:151]\r\n",
        "pokemon_2G_crystal = os.listdir(path_pokemon + '2G-crystal')[:151]\r\n",
        "pokemon_2G_gold = os.listdir(path_pokemon + '2G-gold')[:151]\r\n",
        "pokemon_2G_silver = os.listdir(path_pokemon + '2G-silver')[:151]\r\n",
        "pokemon_3G_emerald = os.listdir(path_pokemon + '3G-emerald')[:151]\r\n",
        "pokemon_3G_firered_leafgreen = os.listdir(path_pokemon + '3G-firered-leafgreen')[:151]\r\n",
        "pokemon_3G_ruby_sapphire = os.listdir(path_pokemon + '3G-ruby-sapphire')[:151]\r\n",
        "pokemon_4G_diamond_pearl = os.listdir(path_pokemon + '4G-diamond-pearl')[:151]\r\n",
        "pokemon_4G_heartgold_soulsilver = os.listdir(path_pokemon + '4G-heartgold-soulsilver')[:151]\r\n",
        "pokemon_4G_platinum = os.listdir(path_pokemon + '4G-platinum')[:151]\r\n",
        "pokemon_5G_black_white = os.listdir(path_pokemon + '5G-black-white')[:151]"
      ],
      "execution_count": 4,
      "outputs": []
    },
    {
      "cell_type": "markdown",
      "metadata": {
        "id": "YNn9e-AXAXNr"
      },
      "source": [
        "Création du fichier de données d'entraînement"
      ]
    },
    {
      "cell_type": "code",
      "metadata": {
        "id": "wPVrSSaQksSC"
      },
      "source": [
        "# path train\r\n",
        "path_train_pokemon = path_pokemon + \"train/\"\r\n",
        "\r\n",
        "# train folder\r\n",
        "if not os.path.exists(path_train_pokemon):\r\n",
        "  os.mkdir(path_train_pokemon)\r\n",
        "\r\n",
        "# train images\r\n",
        "for filename in range(1, 152):\r\n",
        "  shutil.copyfile(path_pokemon + \"1G-red-blue/\" + str(filename) + '.png', path_train_pokemon + str(filename) + '-1G-red-blue.png')\r\n",
        "\r\n",
        "for filename in range(1, 152):\r\n",
        "  shutil.copyfile(path_pokemon + \"1G-red-green/\" + str(filename) +'.png', path_train_pokemon + str(filename) + '-1G-red-green.png')\r\n",
        "\r\n",
        "for filename in range(1, 152):\r\n",
        "  shutil.copyfile(path_pokemon + \"1G-yellow/\" + str(filename) + '.png', path_train_pokemon + str(filename) + '-1G-yellow.png')\r\n",
        "\r\n",
        "for filename in range(1, 152):\r\n",
        "  shutil.copyfile(path_pokemon + \"2G-crystal/\" + str(filename) + '.png', path_train_pokemon + str(filename) + '-2G-crystal.png')\r\n",
        "\r\n",
        "for filename in range(1, 152):\r\n",
        "  shutil.copyfile(path_pokemon + \"2G-gold/\" + str(filename) + '.png', path_train_pokemon + str(filename) + '-2G-gold.png')\r\n",
        "\r\n",
        "for filename in range(1, 152):\r\n",
        "  shutil.copyfile(path_pokemon + \"2G-silver/\" + str(filename) + '.png', path_train_pokemon + str(filename) + '-2G-silver.png')\r\n",
        "\r\n",
        "for filename in range(1, 152):\r\n",
        "  shutil.copyfile(path_pokemon + \"3G-emerald/\" + str(filename) + '.png', path_train_pokemon + str(filename) + '-3G-emerald.png')\r\n",
        "\r\n",
        "for filename in range(1, 152):\r\n",
        "  shutil.copyfile(path_pokemon + \"3G-firered-leafgreen/\" + str(filename) + '.png', path_train_pokemon + str(filename) + '-3G-firered-leafgreen.png')\r\n",
        "\r\n",
        "for filename in range(1, 152):\r\n",
        "  shutil.copyfile(path_pokemon + \"3G-ruby-sapphire/\" + str(filename) + '.png', path_train_pokemon + str(filename) + '-3G-ruby-sapphire.png')\r\n",
        "\r\n",
        "for filename in range(1, 152):\r\n",
        "  shutil.copyfile(path_pokemon + \"4G-diamond-pearl/\" + str(filename) + '.png', path_train_pokemon + str(filename) + '-4G-diamond-perl.png')\r\n",
        "\r\n",
        "for filename in range(1, 152):\r\n",
        "  shutil.copyfile(path_pokemon + \"4G-heartgold-soulsilver/\" + str(filename) + '.png', path_train_pokemon + str(filename) + '-4G-heartgold-soulsilver.png')\r\n",
        "\r\n",
        "# train labels\r\n",
        "train_filenames = os.listdir(path_train_pokemon)\r\n",
        "train_categories=[]\r\n",
        "for filename in train_filenames:\r\n",
        "    train_categories.append(filename.split('-')[0])"
      ],
      "execution_count": 5,
      "outputs": []
    },
    {
      "cell_type": "markdown",
      "metadata": {
        "id": "xrbTzeKfAZbG"
      },
      "source": [
        "Création du fichier des données de validation"
      ]
    },
    {
      "cell_type": "code",
      "metadata": {
        "id": "2z3nRHz36TWW"
      },
      "source": [
        "# path validation\r\n",
        "path_validation_pokemon = path_pokemon + \"validation/\"\r\n",
        "\r\n",
        "# validation folder\r\n",
        "if not os.path.exists(path_validation_pokemon):\r\n",
        "  os.mkdir(path_validation_pokemon)\r\n",
        "\r\n",
        "\r\n",
        "# Creation\r\n",
        "if not os.path.exists(path_validation_pokemon):\r\n",
        "  os.mkdir(path_validation_pokemon)\r\n",
        "\r\n",
        "# Validation images\r\n",
        "for filename in range(1, 152):\r\n",
        "  shutil.copyfile(path_pokemon + \"5G-black-white/\" + str(filename) + '.png', path_validation_pokemon + str(filename) + '-5G-black-white.png')\r\n",
        "\r\n",
        "# validation labels\r\n",
        "validation_filenames = os.listdir(path_validation_pokemon)\r\n",
        "validation_categories=[]\r\n",
        "for filename in validation_filenames:\r\n",
        "  validation_categories.append(filename.split('-')[0])"
      ],
      "execution_count": 6,
      "outputs": []
    },
    {
      "cell_type": "markdown",
      "metadata": {
        "id": "K4j0i6CQAbgl"
      },
      "source": [
        "Création du fichier des données de test"
      ]
    },
    {
      "cell_type": "code",
      "metadata": {
        "id": "N4vSz1Lm8bN2"
      },
      "source": [
        "# path test\r\n",
        "path_test_pokemon = path_pokemon + \"test/\"\r\n",
        "\r\n",
        "# testfolder\r\n",
        "if not os.path.exists(path_test_pokemon):\r\n",
        "  os.mkdir(path_test_pokemon)\r\n",
        "\r\n",
        "\r\n",
        "# Test images\r\n",
        "for filename in range(1, 152):\r\n",
        "  shutil.copyfile(path_pokemon + \"4G-platinum/\" + str(filename) + '.png', path_test_pokemon + str(filename) + '-4G-platinum.png')\r\n",
        "\r\n",
        "# Test labels\r\n",
        "test_filenames = os.listdir(path_test_pokemon)\r\n",
        "test_categories=[]\r\n",
        "for filename in test_filenames:\r\n",
        "  test_categories.append(filename.split('-')[0])"
      ],
      "execution_count": 7,
      "outputs": []
    },
    {
      "cell_type": "markdown",
      "metadata": {
        "id": "BOFkZCZj38f7"
      },
      "source": [
        "Création des ensemble d'apprentissage, test et validation"
      ]
    },
    {
      "cell_type": "code",
      "metadata": {
        "id": "rqkrGGRd91vf"
      },
      "source": [
        "#Images d'entrainement\r\n",
        "train_df = pd.DataFrame({\r\n",
        "    'filename': train_filenames,\r\n",
        "    'category': train_categories\r\n",
        "})\r\n",
        "\r\n",
        "\r\n",
        "#Images de validation\r\n",
        "validation_df = pd.DataFrame({\r\n",
        "    'filename': validation_filenames,\r\n",
        "    'category': validation_categories\r\n",
        "})\r\n",
        "\r\n",
        "\r\n",
        "#Images de test\r\n",
        "test_df = pd.DataFrame({\r\n",
        "    'filename': test_filenames,\r\n",
        "    'category': test_categories\r\n",
        "})\r\n",
        "\r\n",
        "\r\n",
        "train_df['category'] = train_df['category'].astype(str)\r\n",
        "validation_df['category'] = validation_df['category'].astype(str)\r\n",
        "test_df['category'] = validation_df['category'].astype(str)\r\n",
        "\r\n",
        "total_train = train_df.shape[0]\r\n",
        "total_validate = validation_df.shape[0]"
      ],
      "execution_count": 8,
      "outputs": []
    },
    {
      "cell_type": "code",
      "metadata": {
        "colab": {
          "base_uri": "https://localhost:8080/",
          "height": 268
        },
        "id": "Os7-L9zb-bBX",
        "outputId": "c17bd7dc-68b0-4e31-823e-b199d60a3bfd"
      },
      "source": [
        "import random\r\n",
        "from keras.preprocessing.image import load_img\r\n",
        "\r\n",
        "sample = random.choice(test_filenames)\r\n",
        "image = load_img(path_test_pokemon + sample)\r\n",
        "plt.imshow(image)\r\n",
        "plt.show()"
      ],
      "execution_count": 9,
      "outputs": [
        {
          "output_type": "display_data",
          "data": {
            "image/png": "[encoded data removed]",
            "text/plain": [
              "<Figure size 432x288 with 1 Axes>"
            ]
          },
          "metadata": {
            "tags": [],
            "needs_background": "light"
          }
        }
      ]
    },
    {
      "cell_type": "markdown",
      "metadata": {
        "id": "UsmRS5_LEqhW"
      },
      "source": [
        "top 5 et top 10 accuracy"
      ]
    },
    {
      "cell_type": "code",
      "metadata": {
        "id": "inRYttUoEr66"
      },
      "source": [
        "import keras.metrics as metrics\r\n",
        "def top5_acc(ytrue, ypred):\r\n",
        "    return metrics.top_k_categorical_accuracy(ytrue, ypred, k=5)\r\n",
        "\r\n",
        "def top10_acc(ytrue, ypred):\r\n",
        "    return metrics.top_k_categorical_accuracy(ytrue, ypred, k=10)"
      ],
      "execution_count": 10,
      "outputs": []
    },
    {
      "cell_type": "markdown",
      "metadata": {
        "id": "ADOgPTywb2yY"
      },
      "source": [
        "Ensemble d'entraînement, test et validation"
      ]
    },
    {
      "cell_type": "code",
      "metadata": {
        "id": "1sMG5ayDb7XO",
        "colab": {
          "base_uri": "https://localhost:8080/"
        },
        "outputId": "6273109a-572d-4954-b67b-59302279e6d8"
      },
      "source": [
        "from keras.preprocessing.image import ImageDataGenerator\r\n",
        "\r\n",
        "batch_size = 16\r\n",
        "image_size = 32\r\n",
        "\r\n",
        "\r\n",
        "#Images d'entrainement\r\n",
        "train_datagen=ImageDataGenerator(rescale=1./255)\r\n",
        "train_generator = train_datagen.flow_from_dataframe(\r\n",
        "    train_df, \r\n",
        "    path_train_pokemon,\r\n",
        "    x_col='filename',\r\n",
        "    y_col='category',\r\n",
        "    target_size=(image_size,image_size),\r\n",
        "    batch_size=batch_size\r\n",
        ")\r\n",
        "\r\n",
        "#Images de validation\r\n",
        "validation_datagen=ImageDataGenerator(rescale=1./255)\r\n",
        "validation_generator = validation_datagen.flow_from_dataframe(\r\n",
        "    validation_df, \r\n",
        "    path_validation_pokemon, \r\n",
        "    x_col='filename',\r\n",
        "    y_col='category',\r\n",
        "    target_size=(image_size, image_size),\r\n",
        "    batch_size=batch_size\r\n",
        ")\r\n",
        "\r\n",
        "#Images de test\r\n",
        "test_datagen=ImageDataGenerator(rescale=1./255)\r\n",
        "test_generator = test_datagen.flow_from_dataframe(\r\n",
        "    test_df, \r\n",
        "    path_test_pokemon, \r\n",
        "    x_col='filename',\r\n",
        "    y_col='category',\r\n",
        "    target_size=(image_size, image_size),\r\n",
        "    batch_size=batch_size\r\n",
        ")"
      ],
      "execution_count": 11,
      "outputs": [
        {
          "output_type": "stream",
          "text": [
            "Found 1661 validated image filenames belonging to 151 classes.\n",
            "Found 151 validated image filenames belonging to 151 classes.\n",
            "Found 151 validated image filenames belonging to 151 classes.\n"
          ],
          "name": "stdout"
        }
      ]
    },
    {
      "cell_type": "markdown",
      "metadata": {
        "id": "UvHsB9LWQOs6"
      },
      "source": [
        "Entraînement du réseau de neurone.\r\n",
        "\r\n",
        "On utilise un VGG pré-entraîné sur imagenet\r\n",
        "\r\n"
      ]
    },
    {
      "cell_type": "markdown",
      "metadata": {
        "id": "oJoge4-A3lZj"
      },
      "source": [
        "Import VGG"
      ]
    },
    {
      "cell_type": "code",
      "metadata": {
        "id": "fRMQ9Je_3j8A"
      },
      "source": [
        "# #VGG pré entraîné sur imagenet\r\n",
        "# model_vgg16_conv = VGG16(weights='imagenet', include_top=False)\r\n",
        "# model_vgg16_conv.summary()\r\n",
        "\r\n",
        "# #Mon input c'est du 40 40 3\r\n",
        "# input = Input(shape=(32, 32, 3),name = 'image_input')\r\n",
        "\r\n",
        "# output_vgg16_conv = model_vgg16_conv(input)\r\n",
        "\r\n",
        "# #On rajoute quelques layers\r\n",
        "# x = Flatten(name='flatten')(output_vgg16_conv)\r\n",
        "# x = Dense(4096, activation='relu', name='fc1')(x)\r\n",
        "# x = Dense(4096, activation='relu', name='fc2')(x)\r\n",
        "# x = Dense(151, activation='softmax', name='predictions')(x)\r\n",
        "\r\n",
        "# #Mon modele à moi\r\n",
        "# my_model = Model(inputs=input, outputs=x)\r\n",
        "\r\n",
        "# my_model.summary()"
      ],
      "execution_count": 12,
      "outputs": []
    },
    {
      "cell_type": "markdown",
      "metadata": {
        "id": "21p8a0i66ARv"
      },
      "source": [
        "C'est parti pour l'entraînnement !"
      ]
    },
    {
      "cell_type": "code",
      "metadata": {
        "id": "eFm-A4AE5_6q"
      },
      "source": [
        "# my_model.compile(loss='binary_crossentropy',\r\n",
        "#               optimizer=optimizers.Adam(lr=3e-4),\r\n",
        "#               metrics=['acc'])"
      ],
      "execution_count": 13,
      "outputs": []
    },
    {
      "cell_type": "code",
      "metadata": {
        "id": "u2JOOta3IbDX"
      },
      "source": [
        "# history = my_model.fit(train_generator,\r\n",
        "#                     steps_per_epoch=total_train//batch_size,\r\n",
        "#                     validation_data=validation_generator,\r\n",
        "#                     validation_steps=total_validate//batch_size,\r\n",
        "#                     epochs=100,\r\n",
        "#                     )"
      ],
      "execution_count": 14,
      "outputs": []
    },
    {
      "cell_type": "markdown",
      "metadata": {
        "id": "exSN2tosGeIg"
      },
      "source": [
        "Fonction qui analyse les résultats"
      ]
    },
    {
      "cell_type": "code",
      "metadata": {
        "id": "zB5rh_K5GSgQ"
      },
      "source": [
        "def plot_training_analysis():\r\n",
        "  acc = history.history['acc']\r\n",
        "  val_acc = history.history['val_acc']\r\n",
        "  loss = history.history['loss']\r\n",
        "  val_loss = history.history['val_loss']\r\n",
        "  top5_acc = history.history['top5_acc']\r\n",
        "  top10_acc = history.history['top10_acc']\r\n",
        "  val_top5_acc = history.history['val_top5_acc']\r\n",
        "  val_top10_acc = history.history['val_top10_acc']\r\n",
        "\r\n",
        "\r\n",
        "  epochs = range(len(acc))\r\n",
        "\r\n",
        "  plt.plot(epochs, acc, 'b', linestyle=\"--\",label='Training acc')\r\n",
        "  plt.plot(epochs, val_acc, 'g', label='Validation acc')\r\n",
        "  plt.title('Training and validation accuracy')\r\n",
        "  plt.legend()\r\n",
        "\r\n",
        "  plt.figure()\r\n",
        "\r\n",
        "  plt.plot(epochs, loss, 'b', linestyle=\"--\",label='Training loss')\r\n",
        "  plt.plot(epochs, val_loss,'g', label='Validation loss')\r\n",
        "  plt.title('Training and validation loss')\r\n",
        "  plt.legend()\r\n",
        "\r\n",
        "  plt.show()\r\n",
        "\r\n",
        "  plt.plot(epochs, top5_acc, 'b', linestyle=\"--\",label='Top 5 accuracy')\r\n",
        "  plt.plot(epochs, val_top5_acc, 'g', label='Validation Top 5 accuracy')\r\n",
        "  plt.title('Top 5 Training and validation accuracy')\r\n",
        "  plt.legend()\r\n",
        "\r\n",
        "  plt.figure()\r\n",
        "\r\n",
        "  plt.plot(epochs, top10_acc, 'b', linestyle=\"--\",label='Top 10 accuracy')\r\n",
        "  plt.plot(epochs, val_top10_acc, 'g', label='Validation top 10 accuracy')\r\n",
        "  plt.title('Top 10 Training and validation accuracy')\r\n",
        "  plt.legend()\r\n",
        "\r\n",
        "  plt.figure()"
      ],
      "execution_count": 40,
      "outputs": []
    },
    {
      "cell_type": "markdown",
      "metadata": {
        "id": "qNfHbQ0jJr9s"
      },
      "source": [
        "On observe clairement un phénomène de sur-apprentissage."
      ]
    },
    {
      "cell_type": "code",
      "metadata": {
        "id": "SrvcZr6JLvsL"
      },
      "source": [
        "# #VGG pré entraîné sur imagenet\r\n",
        "# model_efficient_net = EfficientNetB7(include_top=False, weights=\"imagenet\", classes=151,classifier_activation=\"softmax\",)\r\n",
        "# model_efficient_net.summary()\r\n",
        "\r\n",
        "# #Mon input c'est du 40 40 3\r\n",
        "# input = Input(shape=(32, 32, 3), name = 'image_input')\r\n",
        "\r\n",
        "# output_efficient_net = model_efficient_net(input)\r\n",
        "\r\n",
        "# #On rajoute quelques layers\r\n",
        "# x = Flatten(name='flatten')(output_efficient_net)\r\n",
        "# x = Dense(4096, activation='relu', name='fc1')(x)\r\n",
        "# x = Dense(4096, activation='relu', name='fc2')(x)\r\n",
        "# x = Dense(151, activation='softmax', name='predictions')(x)\r\n",
        "\r\n",
        "# #Mon modele à moi\r\n",
        "# my_model_2 = Model(inputs=input, outputs=x)\r\n",
        "\r\n",
        "# my_model_2.summary()"
      ],
      "execution_count": 16,
      "outputs": []
    },
    {
      "cell_type": "code",
      "metadata": {
        "id": "AXJzvH1bNib-"
      },
      "source": [
        "# my_model_2.compile(loss='binary_crossentropy',\r\n",
        "#               optimizer=optimizers.Adam(lr=3e-4),\r\n",
        "#               metrics=['acc'])"
      ],
      "execution_count": 17,
      "outputs": []
    },
    {
      "cell_type": "code",
      "metadata": {
        "id": "5jCBuDndNj7H"
      },
      "source": [
        "# history = my_model_2.fit(train_generator,\r\n",
        "#                     steps_per_epoch=total_train//batch_size,\r\n",
        "#                     validation_data=validation_generator,\r\n",
        "#                     validation_steps=total_validate//batch_size,\r\n",
        "#                     epochs=100,\r\n",
        "#                     )"
      ],
      "execution_count": 18,
      "outputs": []
    },
    {
      "cell_type": "code",
      "metadata": {
        "id": "-3epDVQcNugD"
      },
      "source": [
        "# plot_training_analysis()"
      ],
      "execution_count": 19,
      "outputs": []
    },
    {
      "cell_type": "markdown",
      "metadata": {
        "id": "_wm4ln9Cs2H2"
      },
      "source": [
        "VGG et Efficient net ont plus de 100M de paramètres, ce qui est bien trop gros pour ma petite base d'apprentissage de 1661 images. Essayons Resnet50 qui a 25M paramètres"
      ]
    },
    {
      "cell_type": "code",
      "metadata": {
        "colab": {
          "base_uri": "https://localhost:8080/"
        },
        "id": "py0v8pD3s1ZK",
        "outputId": "515d5d68-022b-4eb7-fb8e-e65e3d60fdcf"
      },
      "source": [
        "conv_resnet = ResNet50(\r\n",
        "              include_top=False,\r\n",
        "              weights=\"imagenet\",\r\n",
        "              input_shape=(32, 32, 3),\r\n",
        "              classes=151\r\n",
        ")\r\n",
        "\r\n",
        "conv_resnet.trainable = True\r\n",
        "\r\n",
        "for layer in conv_resnet.layers:\r\n",
        "    if layer.name == \"res5c_branch2a\" or layer.name == \"res5c_branch2b\" or layer.name == \"res5c_branch2c\":\r\n",
        "      layer.trainable = True  \r\n",
        "    else:\r\n",
        "      layer.trainable = False\r\n",
        "\r\n",
        "#Mon input c'est du 32 32 3\r\n",
        "input = Input(shape=(32, 32, 3), name = 'image_input')\r\n",
        "\r\n",
        "output_resnet = conv_resnet(input)\r\n",
        "\r\n",
        "#On rajoute quelques layers\r\n",
        "x = Flatten(name='flatten')(output_resnet)\r\n",
        "x = Dense(2048, activation='relu', name='fc1')(x)\r\n",
        "x = Dense(2048, activation='relu', name='fc2')(x)\r\n",
        "x = Dense(151, activation='softmax', name='predictions')(x)\r\n",
        "\r\n",
        "#Mon modele à moi\r\n",
        "my_model_3 = Model(inputs=input, outputs=x)\r\n",
        "\r\n",
        "my_model_3.summary()"
      ],
      "execution_count": 41,
      "outputs": [
        {
          "output_type": "stream",
          "text": [
            "Model: \"model_4\"\n",
            "_________________________________________________________________\n",
            "Layer (type)                 Output Shape              Param #   \n",
            "=================================================================\n",
            "image_input (InputLayer)     [(None, 32, 32, 3)]       0         \n",
            "_________________________________________________________________\n",
            "resnet50 (Functional)        (None, 1, 1, 2048)        23587712  \n",
            "_________________________________________________________________\n",
            "flatten (Flatten)            (None, 2048)              0         \n",
            "_________________________________________________________________\n",
            "fc1 (Dense)                  (None, 2048)              4196352   \n",
            "_________________________________________________________________\n",
            "fc2 (Dense)                  (None, 2048)              4196352   \n",
            "_________________________________________________________________\n",
            "predictions (Dense)          (None, 151)               309399    \n",
            "=================================================================\n",
            "Total params: 32,289,815\n",
            "Trainable params: 8,702,103\n",
            "Non-trainable params: 23,587,712\n",
            "_________________________________________________________________\n"
          ],
          "name": "stdout"
        }
      ]
    },
    {
      "cell_type": "code",
      "metadata": {
        "id": "VCvJile-tbu5"
      },
      "source": [
        "my_model_3.compile(loss='binary_crossentropy',\r\n",
        "              optimizer=optimizers.Adam(lr=3e-4),\r\n",
        "              metrics=[\"acc\", top5_acc, top10_acc]\r\n",
        ")"
      ],
      "execution_count": 43,
      "outputs": []
    },
    {
      "cell_type": "code",
      "metadata": {
        "colab": {
          "base_uri": "https://localhost:8080/"
        },
        "id": "RL0vBRp3tiLP",
        "outputId": "fd200b9e-fa6a-40a8-8000-6ffb12863bac"
      },
      "source": [
        "history = my_model_3.fit(train_generator,\r\n",
        "                    steps_per_epoch=total_train//batch_size,\r\n",
        "                    validation_data=validation_generator,\r\n",
        "                    validation_steps=total_validate//batch_size,\r\n",
        "                    epochs=200,\r\n",
        "                    )"
      ],
      "execution_count": 44,
      "outputs": [
        {
          "output_type": "stream",
          "text": [
            "Epoch 1/200\n",
            "103/103 [==============================] - 5s 23ms/step - loss: 0.1035 - acc: 0.0069 - top5_acc: 0.0255 - top10_acc: 0.0571 - val_loss: 0.0416 - val_acc: 0.0000e+00 - val_top5_acc: 0.0347 - val_top10_acc: 0.0694\n",
            "Epoch 2/200\n",
            "103/103 [==============================] - 1s 14ms/step - loss: 0.0418 - acc: 0.0067 - top5_acc: 0.0238 - top10_acc: 0.0522 - val_loss: 0.0411 - val_acc: 0.0069 - val_top5_acc: 0.0347 - val_top10_acc: 0.0764\n",
            "Epoch 3/200\n",
            "103/103 [==============================] - 1s 14ms/step - loss: 0.0413 - acc: 0.0053 - top5_acc: 0.0319 - top10_acc: 0.0586 - val_loss: 0.0413 - val_acc: 0.0139 - val_top5_acc: 0.0417 - val_top10_acc: 0.0833\n",
            "Epoch 4/200\n",
            "103/103 [==============================] - 1s 14ms/step - loss: 0.0407 - acc: 0.0129 - top5_acc: 0.0455 - top10_acc: 0.0898 - val_loss: 0.0409 - val_acc: 0.0139 - val_top5_acc: 0.0486 - val_top10_acc: 0.0764\n",
            "Epoch 5/200\n",
            "103/103 [==============================] - 1s 14ms/step - loss: 0.0402 - acc: 0.0102 - top5_acc: 0.0671 - top10_acc: 0.1206 - val_loss: 0.0414 - val_acc: 0.0069 - val_top5_acc: 0.0347 - val_top10_acc: 0.0833\n",
            "Epoch 6/200\n",
            "103/103 [==============================] - 1s 14ms/step - loss: 0.0397 - acc: 0.0180 - top5_acc: 0.0732 - top10_acc: 0.1194 - val_loss: 0.0411 - val_acc: 0.0139 - val_top5_acc: 0.0486 - val_top10_acc: 0.0833\n",
            "Epoch 7/200\n",
            "103/103 [==============================] - 1s 14ms/step - loss: 0.0390 - acc: 0.0212 - top5_acc: 0.0898 - top10_acc: 0.1588 - val_loss: 0.0419 - val_acc: 0.0069 - val_top5_acc: 0.0347 - val_top10_acc: 0.0903\n",
            "Epoch 8/200\n",
            "103/103 [==============================] - 1s 14ms/step - loss: 0.0387 - acc: 0.0203 - top5_acc: 0.0961 - top10_acc: 0.1546 - val_loss: 0.0420 - val_acc: 0.0000e+00 - val_top5_acc: 0.0486 - val_top10_acc: 0.0972\n",
            "Epoch 9/200\n",
            "103/103 [==============================] - 1s 14ms/step - loss: 0.0379 - acc: 0.0330 - top5_acc: 0.1229 - top10_acc: 0.2009 - val_loss: 0.0430 - val_acc: 0.0069 - val_top5_acc: 0.0486 - val_top10_acc: 0.1042\n",
            "Epoch 10/200\n",
            "103/103 [==============================] - 2s 15ms/step - loss: 0.0374 - acc: 0.0469 - top5_acc: 0.1349 - top10_acc: 0.2312 - val_loss: 0.0423 - val_acc: 0.0069 - val_top5_acc: 0.0694 - val_top10_acc: 0.1181\n",
            "Epoch 11/200\n",
            "103/103 [==============================] - 1s 14ms/step - loss: 0.0373 - acc: 0.0400 - top5_acc: 0.1343 - top10_acc: 0.2257 - val_loss: 0.0431 - val_acc: 0.0139 - val_top5_acc: 0.0694 - val_top10_acc: 0.1250\n",
            "Epoch 12/200\n",
            "103/103 [==============================] - 1s 14ms/step - loss: 0.0366 - acc: 0.0527 - top5_acc: 0.1832 - top10_acc: 0.2782 - val_loss: 0.0425 - val_acc: 0.0208 - val_top5_acc: 0.0556 - val_top10_acc: 0.0972\n",
            "Epoch 13/200\n",
            "103/103 [==============================] - 1s 14ms/step - loss: 0.0362 - acc: 0.0512 - top5_acc: 0.1818 - top10_acc: 0.2934 - val_loss: 0.0433 - val_acc: 0.0069 - val_top5_acc: 0.0625 - val_top10_acc: 0.1181\n",
            "Epoch 14/200\n",
            "103/103 [==============================] - 1s 14ms/step - loss: 0.0357 - acc: 0.0744 - top5_acc: 0.1828 - top10_acc: 0.2977 - val_loss: 0.0424 - val_acc: 0.0208 - val_top5_acc: 0.0764 - val_top10_acc: 0.1389\n",
            "Epoch 15/200\n",
            "103/103 [==============================] - 1s 14ms/step - loss: 0.0349 - acc: 0.0865 - top5_acc: 0.2247 - top10_acc: 0.3433 - val_loss: 0.0432 - val_acc: 0.0208 - val_top5_acc: 0.0625 - val_top10_acc: 0.1042\n",
            "Epoch 16/200\n",
            "103/103 [==============================] - 1s 14ms/step - loss: 0.0349 - acc: 0.0742 - top5_acc: 0.2226 - top10_acc: 0.3504 - val_loss: 0.0437 - val_acc: 0.0278 - val_top5_acc: 0.0694 - val_top10_acc: 0.1319\n",
            "Epoch 17/200\n",
            "103/103 [==============================] - 1s 14ms/step - loss: 0.0342 - acc: 0.0966 - top5_acc: 0.2396 - top10_acc: 0.3732 - val_loss: 0.0435 - val_acc: 0.0208 - val_top5_acc: 0.0556 - val_top10_acc: 0.1667\n",
            "Epoch 18/200\n",
            "103/103 [==============================] - 1s 14ms/step - loss: 0.0335 - acc: 0.1015 - top5_acc: 0.3071 - top10_acc: 0.4252 - val_loss: 0.0452 - val_acc: 0.0278 - val_top5_acc: 0.0833 - val_top10_acc: 0.1181\n",
            "Epoch 19/200\n",
            "103/103 [==============================] - 2s 14ms/step - loss: 0.0334 - acc: 0.0965 - top5_acc: 0.2779 - top10_acc: 0.4080 - val_loss: 0.0438 - val_acc: 0.0139 - val_top5_acc: 0.0972 - val_top10_acc: 0.1458\n",
            "Epoch 20/200\n",
            "103/103 [==============================] - 1s 14ms/step - loss: 0.0324 - acc: 0.1161 - top5_acc: 0.3167 - top10_acc: 0.4491 - val_loss: 0.0439 - val_acc: 0.0278 - val_top5_acc: 0.0972 - val_top10_acc: 0.1667\n",
            "Epoch 21/200\n",
            "103/103 [==============================] - 1s 14ms/step - loss: 0.0322 - acc: 0.1442 - top5_acc: 0.3238 - top10_acc: 0.4665 - val_loss: 0.0438 - val_acc: 0.0139 - val_top5_acc: 0.0833 - val_top10_acc: 0.1597\n",
            "Epoch 22/200\n",
            "103/103 [==============================] - 1s 14ms/step - loss: 0.0316 - acc: 0.1298 - top5_acc: 0.3569 - top10_acc: 0.5070 - val_loss: 0.0444 - val_acc: 0.0208 - val_top5_acc: 0.1111 - val_top10_acc: 0.2014\n",
            "Epoch 23/200\n",
            "103/103 [==============================] - 1s 14ms/step - loss: 0.0309 - acc: 0.1472 - top5_acc: 0.3839 - top10_acc: 0.5330 - val_loss: 0.0448 - val_acc: 0.0139 - val_top5_acc: 0.0972 - val_top10_acc: 0.1667\n",
            "Epoch 24/200\n",
            "103/103 [==============================] - 1s 14ms/step - loss: 0.0306 - acc: 0.1475 - top5_acc: 0.3704 - top10_acc: 0.5343 - val_loss: 0.0468 - val_acc: 0.0208 - val_top5_acc: 0.0903 - val_top10_acc: 0.1736\n",
            "Epoch 25/200\n",
            "103/103 [==============================] - 2s 15ms/step - loss: 0.0296 - acc: 0.1863 - top5_acc: 0.4263 - top10_acc: 0.5778 - val_loss: 0.0451 - val_acc: 0.0139 - val_top5_acc: 0.1042 - val_top10_acc: 0.1806\n",
            "Epoch 26/200\n",
            "103/103 [==============================] - 2s 14ms/step - loss: 0.0292 - acc: 0.1893 - top5_acc: 0.4336 - top10_acc: 0.5777 - val_loss: 0.0466 - val_acc: 0.0208 - val_top5_acc: 0.1389 - val_top10_acc: 0.1806\n",
            "Epoch 27/200\n",
            "103/103 [==============================] - 2s 15ms/step - loss: 0.0281 - acc: 0.2379 - top5_acc: 0.4953 - top10_acc: 0.6223 - val_loss: 0.0461 - val_acc: 0.0278 - val_top5_acc: 0.1181 - val_top10_acc: 0.1806\n",
            "Epoch 28/200\n",
            "103/103 [==============================] - 2s 15ms/step - loss: 0.0279 - acc: 0.2231 - top5_acc: 0.4869 - top10_acc: 0.6358 - val_loss: 0.0473 - val_acc: 0.0417 - val_top5_acc: 0.1111 - val_top10_acc: 0.1944\n",
            "Epoch 29/200\n",
            "103/103 [==============================] - 1s 14ms/step - loss: 0.0274 - acc: 0.2337 - top5_acc: 0.5112 - top10_acc: 0.6569 - val_loss: 0.0472 - val_acc: 0.0417 - val_top5_acc: 0.1389 - val_top10_acc: 0.1806\n",
            "Epoch 30/200\n",
            "103/103 [==============================] - 1s 14ms/step - loss: 0.0262 - acc: 0.2776 - top5_acc: 0.5544 - top10_acc: 0.6859 - val_loss: 0.0490 - val_acc: 0.0347 - val_top5_acc: 0.0833 - val_top10_acc: 0.1597\n",
            "Epoch 31/200\n",
            "103/103 [==============================] - 1s 14ms/step - loss: 0.0257 - acc: 0.2855 - top5_acc: 0.5896 - top10_acc: 0.7319 - val_loss: 0.0492 - val_acc: 0.0486 - val_top5_acc: 0.1250 - val_top10_acc: 0.1806\n",
            "Epoch 32/200\n",
            "103/103 [==============================] - 1s 14ms/step - loss: 0.0254 - acc: 0.3157 - top5_acc: 0.5746 - top10_acc: 0.7266 - val_loss: 0.0476 - val_acc: 0.0486 - val_top5_acc: 0.1250 - val_top10_acc: 0.2014\n",
            "Epoch 33/200\n",
            "103/103 [==============================] - 1s 14ms/step - loss: 0.0240 - acc: 0.3357 - top5_acc: 0.6431 - top10_acc: 0.7748 - val_loss: 0.0479 - val_acc: 0.0347 - val_top5_acc: 0.1042 - val_top10_acc: 0.1944\n",
            "Epoch 34/200\n",
            "103/103 [==============================] - 1s 14ms/step - loss: 0.0235 - acc: 0.3664 - top5_acc: 0.6564 - top10_acc: 0.7722 - val_loss: 0.0506 - val_acc: 0.0139 - val_top5_acc: 0.1111 - val_top10_acc: 0.1944\n",
            "Epoch 35/200\n",
            "103/103 [==============================] - 1s 14ms/step - loss: 0.0223 - acc: 0.3814 - top5_acc: 0.6848 - top10_acc: 0.8106 - val_loss: 0.0515 - val_acc: 0.0139 - val_top5_acc: 0.1250 - val_top10_acc: 0.2014\n",
            "Epoch 36/200\n",
            "103/103 [==============================] - 1s 14ms/step - loss: 0.0216 - acc: 0.4281 - top5_acc: 0.7030 - top10_acc: 0.8338 - val_loss: 0.0538 - val_acc: 0.0417 - val_top5_acc: 0.1389 - val_top10_acc: 0.2014\n",
            "Epoch 37/200\n",
            "103/103 [==============================] - 1s 14ms/step - loss: 0.0211 - acc: 0.4264 - top5_acc: 0.7294 - top10_acc: 0.8412 - val_loss: 0.0521 - val_acc: 0.0278 - val_top5_acc: 0.1319 - val_top10_acc: 0.2153\n",
            "Epoch 38/200\n",
            "103/103 [==============================] - 1s 14ms/step - loss: 0.0203 - acc: 0.4565 - top5_acc: 0.7426 - top10_acc: 0.8542 - val_loss: 0.0583 - val_acc: 0.0347 - val_top5_acc: 0.0972 - val_top10_acc: 0.1875\n",
            "Epoch 39/200\n",
            "103/103 [==============================] - 1s 14ms/step - loss: 0.0194 - acc: 0.5012 - top5_acc: 0.7710 - top10_acc: 0.8679 - val_loss: 0.0559 - val_acc: 0.0486 - val_top5_acc: 0.1250 - val_top10_acc: 0.2083\n",
            "Epoch 40/200\n",
            "103/103 [==============================] - 1s 14ms/step - loss: 0.0191 - acc: 0.4893 - top5_acc: 0.7915 - top10_acc: 0.8888 - val_loss: 0.0573 - val_acc: 0.0278 - val_top5_acc: 0.1250 - val_top10_acc: 0.2361\n",
            "Epoch 41/200\n",
            "103/103 [==============================] - 1s 14ms/step - loss: 0.0182 - acc: 0.5058 - top5_acc: 0.8267 - top10_acc: 0.9045 - val_loss: 0.0615 - val_acc: 0.0278 - val_top5_acc: 0.1250 - val_top10_acc: 0.1806\n",
            "Epoch 42/200\n",
            "103/103 [==============================] - 1s 14ms/step - loss: 0.0172 - acc: 0.5669 - top5_acc: 0.8354 - top10_acc: 0.9174 - val_loss: 0.0609 - val_acc: 0.0486 - val_top5_acc: 0.1181 - val_top10_acc: 0.2153\n",
            "Epoch 43/200\n",
            "103/103 [==============================] - 2s 14ms/step - loss: 0.0168 - acc: 0.5829 - top5_acc: 0.8366 - top10_acc: 0.9162 - val_loss: 0.0601 - val_acc: 0.0347 - val_top5_acc: 0.1458 - val_top10_acc: 0.2014\n",
            "Epoch 44/200\n",
            "103/103 [==============================] - 1s 14ms/step - loss: 0.0160 - acc: 0.6070 - top5_acc: 0.8713 - top10_acc: 0.9445 - val_loss: 0.0639 - val_acc: 0.0208 - val_top5_acc: 0.1458 - val_top10_acc: 0.2222\n",
            "Epoch 45/200\n",
            "103/103 [==============================] - 1s 14ms/step - loss: 0.0154 - acc: 0.6272 - top5_acc: 0.8621 - top10_acc: 0.9331 - val_loss: 0.0659 - val_acc: 0.0208 - val_top5_acc: 0.1458 - val_top10_acc: 0.2222\n",
            "Epoch 46/200\n",
            "103/103 [==============================] - 1s 14ms/step - loss: 0.0145 - acc: 0.6593 - top5_acc: 0.8923 - top10_acc: 0.9496 - val_loss: 0.0688 - val_acc: 0.0347 - val_top5_acc: 0.1458 - val_top10_acc: 0.2083\n",
            "Epoch 47/200\n",
            "103/103 [==============================] - 1s 14ms/step - loss: 0.0143 - acc: 0.6464 - top5_acc: 0.9069 - top10_acc: 0.9556 - val_loss: 0.0719 - val_acc: 0.0347 - val_top5_acc: 0.1597 - val_top10_acc: 0.1875\n",
            "Epoch 48/200\n",
            "103/103 [==============================] - 2s 15ms/step - loss: 0.0128 - acc: 0.7136 - top5_acc: 0.9226 - top10_acc: 0.9675 - val_loss: 0.0714 - val_acc: 0.0347 - val_top5_acc: 0.1250 - val_top10_acc: 0.2014\n",
            "Epoch 49/200\n",
            "103/103 [==============================] - 1s 14ms/step - loss: 0.0128 - acc: 0.7095 - top5_acc: 0.9200 - top10_acc: 0.9598 - val_loss: 0.0697 - val_acc: 0.0417 - val_top5_acc: 0.1042 - val_top10_acc: 0.1875\n",
            "Epoch 50/200\n",
            "103/103 [==============================] - 1s 14ms/step - loss: 0.0119 - acc: 0.7432 - top5_acc: 0.9427 - top10_acc: 0.9774 - val_loss: 0.0749 - val_acc: 0.0139 - val_top5_acc: 0.1250 - val_top10_acc: 0.1806\n",
            "Epoch 51/200\n",
            "103/103 [==============================] - 1s 14ms/step - loss: 0.0115 - acc: 0.7580 - top5_acc: 0.9415 - top10_acc: 0.9761 - val_loss: 0.0758 - val_acc: 0.0417 - val_top5_acc: 0.1250 - val_top10_acc: 0.1806\n",
            "Epoch 52/200\n",
            "103/103 [==============================] - 2s 16ms/step - loss: 0.0110 - acc: 0.7767 - top5_acc: 0.9555 - top10_acc: 0.9881 - val_loss: 0.0740 - val_acc: 0.0556 - val_top5_acc: 0.1389 - val_top10_acc: 0.2222\n",
            "Epoch 53/200\n",
            "103/103 [==============================] - 2s 15ms/step - loss: 0.0101 - acc: 0.7953 - top5_acc: 0.9557 - top10_acc: 0.9883 - val_loss: 0.0842 - val_acc: 0.0278 - val_top5_acc: 0.1250 - val_top10_acc: 0.2083\n",
            "Epoch 54/200\n",
            "103/103 [==============================] - 1s 14ms/step - loss: 0.0095 - acc: 0.8243 - top5_acc: 0.9716 - top10_acc: 0.9920 - val_loss: 0.0829 - val_acc: 0.0347 - val_top5_acc: 0.1389 - val_top10_acc: 0.2292\n",
            "Epoch 55/200\n",
            "103/103 [==============================] - 2s 15ms/step - loss: 0.0091 - acc: 0.8308 - top5_acc: 0.9774 - top10_acc: 0.9959 - val_loss: 0.0816 - val_acc: 0.0486 - val_top5_acc: 0.1181 - val_top10_acc: 0.2014\n",
            "Epoch 56/200\n",
            "103/103 [==============================] - 1s 14ms/step - loss: 0.0086 - acc: 0.8545 - top5_acc: 0.9777 - top10_acc: 0.9953 - val_loss: 0.0863 - val_acc: 0.0278 - val_top5_acc: 0.1667 - val_top10_acc: 0.2014\n",
            "Epoch 57/200\n",
            "103/103 [==============================] - 2s 15ms/step - loss: 0.0084 - acc: 0.8481 - top5_acc: 0.9806 - top10_acc: 0.9934 - val_loss: 0.0896 - val_acc: 0.0208 - val_top5_acc: 0.1319 - val_top10_acc: 0.2083\n",
            "Epoch 58/200\n",
            "103/103 [==============================] - 1s 14ms/step - loss: 0.0077 - acc: 0.8717 - top5_acc: 0.9841 - top10_acc: 0.9962 - val_loss: 0.0891 - val_acc: 0.0347 - val_top5_acc: 0.1319 - val_top10_acc: 0.2361\n",
            "Epoch 59/200\n",
            "103/103 [==============================] - 2s 15ms/step - loss: 0.0077 - acc: 0.8775 - top5_acc: 0.9882 - top10_acc: 0.9978 - val_loss: 0.0973 - val_acc: 0.0417 - val_top5_acc: 0.1389 - val_top10_acc: 0.2083\n",
            "Epoch 60/200\n",
            "103/103 [==============================] - 2s 14ms/step - loss: 0.0068 - acc: 0.9019 - top5_acc: 0.9900 - top10_acc: 0.9990 - val_loss: 0.0901 - val_acc: 0.0556 - val_top5_acc: 0.1458 - val_top10_acc: 0.2292\n",
            "Epoch 61/200\n",
            "103/103 [==============================] - 1s 14ms/step - loss: 0.0064 - acc: 0.9150 - top5_acc: 0.9919 - top10_acc: 0.9973 - val_loss: 0.0935 - val_acc: 0.0347 - val_top5_acc: 0.1111 - val_top10_acc: 0.2153\n",
            "Epoch 62/200\n",
            "103/103 [==============================] - 1s 14ms/step - loss: 0.0060 - acc: 0.9231 - top5_acc: 0.9950 - top10_acc: 0.9998 - val_loss: 0.0986 - val_acc: 0.0347 - val_top5_acc: 0.1528 - val_top10_acc: 0.2153\n",
            "Epoch 63/200\n",
            "103/103 [==============================] - 1s 14ms/step - loss: 0.0057 - acc: 0.9455 - top5_acc: 0.9946 - top10_acc: 0.9979 - val_loss: 0.1037 - val_acc: 0.0278 - val_top5_acc: 0.1319 - val_top10_acc: 0.2083\n",
            "Epoch 64/200\n",
            "103/103 [==============================] - 1s 14ms/step - loss: 0.0052 - acc: 0.9442 - top5_acc: 0.9948 - top10_acc: 0.9991 - val_loss: 0.1006 - val_acc: 0.0486 - val_top5_acc: 0.1458 - val_top10_acc: 0.2222\n",
            "Epoch 65/200\n",
            "103/103 [==============================] - 2s 15ms/step - loss: 0.0050 - acc: 0.9458 - top5_acc: 0.9941 - top10_acc: 1.0000 - val_loss: 0.1050 - val_acc: 0.0278 - val_top5_acc: 0.1389 - val_top10_acc: 0.2083\n",
            "Epoch 66/200\n",
            "103/103 [==============================] - 1s 14ms/step - loss: 0.0045 - acc: 0.9652 - top5_acc: 0.9993 - top10_acc: 1.0000 - val_loss: 0.1095 - val_acc: 0.0347 - val_top5_acc: 0.1319 - val_top10_acc: 0.2153\n",
            "Epoch 67/200\n",
            "103/103 [==============================] - 1s 14ms/step - loss: 0.0044 - acc: 0.9601 - top5_acc: 0.9984 - top10_acc: 1.0000 - val_loss: 0.1104 - val_acc: 0.0208 - val_top5_acc: 0.1389 - val_top10_acc: 0.2083\n",
            "Epoch 68/200\n",
            "103/103 [==============================] - 2s 15ms/step - loss: 0.0045 - acc: 0.9585 - top5_acc: 0.9975 - top10_acc: 1.0000 - val_loss: 0.1077 - val_acc: 0.0417 - val_top5_acc: 0.1667 - val_top10_acc: 0.2014\n",
            "Epoch 69/200\n",
            "103/103 [==============================] - 1s 14ms/step - loss: 0.0039 - acc: 0.9723 - top5_acc: 0.9995 - top10_acc: 1.0000 - val_loss: 0.1155 - val_acc: 0.0625 - val_top5_acc: 0.1458 - val_top10_acc: 0.2222\n",
            "Epoch 70/200\n",
            "103/103 [==============================] - 1s 14ms/step - loss: 0.0035 - acc: 0.9825 - top5_acc: 0.9997 - top10_acc: 0.9997 - val_loss: 0.1153 - val_acc: 0.0486 - val_top5_acc: 0.1250 - val_top10_acc: 0.2222\n",
            "Epoch 71/200\n",
            "103/103 [==============================] - 1s 14ms/step - loss: 0.0034 - acc: 0.9814 - top5_acc: 0.9995 - top10_acc: 1.0000 - val_loss: 0.1189 - val_acc: 0.0347 - val_top5_acc: 0.1597 - val_top10_acc: 0.2083\n",
            "Epoch 72/200\n",
            "103/103 [==============================] - 2s 15ms/step - loss: 0.0029 - acc: 0.9837 - top5_acc: 1.0000 - top10_acc: 1.0000 - val_loss: 0.1226 - val_acc: 0.0347 - val_top5_acc: 0.1458 - val_top10_acc: 0.2361\n",
            "Epoch 73/200\n",
            "103/103 [==============================] - 1s 14ms/step - loss: 0.0026 - acc: 0.9899 - top5_acc: 1.0000 - top10_acc: 1.0000 - val_loss: 0.1232 - val_acc: 0.0278 - val_top5_acc: 0.1458 - val_top10_acc: 0.2153\n",
            "Epoch 74/200\n",
            "103/103 [==============================] - 1s 14ms/step - loss: 0.0028 - acc: 0.9916 - top5_acc: 1.0000 - top10_acc: 1.0000 - val_loss: 0.1268 - val_acc: 0.0208 - val_top5_acc: 0.1319 - val_top10_acc: 0.2153\n",
            "Epoch 75/200\n",
            "103/103 [==============================] - 1s 14ms/step - loss: 0.0026 - acc: 0.9935 - top5_acc: 1.0000 - top10_acc: 1.0000 - val_loss: 0.1280 - val_acc: 0.0486 - val_top5_acc: 0.1319 - val_top10_acc: 0.2014\n",
            "Epoch 76/200\n",
            "103/103 [==============================] - 2s 15ms/step - loss: 0.0023 - acc: 0.9962 - top5_acc: 1.0000 - top10_acc: 1.0000 - val_loss: 0.1278 - val_acc: 0.0347 - val_top5_acc: 0.1319 - val_top10_acc: 0.2222\n",
            "Epoch 77/200\n",
            "103/103 [==============================] - 1s 14ms/step - loss: 0.0023 - acc: 0.9895 - top5_acc: 1.0000 - top10_acc: 1.0000 - val_loss: 0.1354 - val_acc: 0.0278 - val_top5_acc: 0.1597 - val_top10_acc: 0.2222\n",
            "Epoch 78/200\n",
            "103/103 [==============================] - 2s 15ms/step - loss: 0.0022 - acc: 0.9905 - top5_acc: 1.0000 - top10_acc: 1.0000 - val_loss: 0.1329 - val_acc: 0.0417 - val_top5_acc: 0.1736 - val_top10_acc: 0.2431\n",
            "Epoch 79/200\n",
            "103/103 [==============================] - 2s 15ms/step - loss: 0.0020 - acc: 0.9942 - top5_acc: 1.0000 - top10_acc: 1.0000 - val_loss: 0.1370 - val_acc: 0.0278 - val_top5_acc: 0.1528 - val_top10_acc: 0.2361\n",
            "Epoch 80/200\n",
            "103/103 [==============================] - 2s 14ms/step - loss: 0.0019 - acc: 0.9966 - top5_acc: 1.0000 - top10_acc: 1.0000 - val_loss: 0.1348 - val_acc: 0.0347 - val_top5_acc: 0.1319 - val_top10_acc: 0.2153\n",
            "Epoch 81/200\n",
            "103/103 [==============================] - 1s 14ms/step - loss: 0.0016 - acc: 0.9997 - top5_acc: 1.0000 - top10_acc: 1.0000 - val_loss: 0.1415 - val_acc: 0.0278 - val_top5_acc: 0.1319 - val_top10_acc: 0.1875\n",
            "Epoch 82/200\n",
            "103/103 [==============================] - 1s 14ms/step - loss: 0.0015 - acc: 0.9988 - top5_acc: 1.0000 - top10_acc: 1.0000 - val_loss: 0.1427 - val_acc: 0.0347 - val_top5_acc: 0.1528 - val_top10_acc: 0.2292\n",
            "Epoch 83/200\n",
            "103/103 [==============================] - 1s 14ms/step - loss: 0.0018 - acc: 0.9984 - top5_acc: 1.0000 - top10_acc: 1.0000 - val_loss: 0.1520 - val_acc: 0.0347 - val_top5_acc: 0.1319 - val_top10_acc: 0.2153\n",
            "Epoch 84/200\n",
            "103/103 [==============================] - 1s 14ms/step - loss: 0.0016 - acc: 0.9973 - top5_acc: 1.0000 - top10_acc: 1.0000 - val_loss: 0.1465 - val_acc: 0.0486 - val_top5_acc: 0.1389 - val_top10_acc: 0.2014\n",
            "Epoch 85/200\n",
            "103/103 [==============================] - 2s 15ms/step - loss: 0.0014 - acc: 0.9987 - top5_acc: 1.0000 - top10_acc: 1.0000 - val_loss: 0.1484 - val_acc: 0.0278 - val_top5_acc: 0.1528 - val_top10_acc: 0.2014\n",
            "Epoch 86/200\n",
            "103/103 [==============================] - 2s 15ms/step - loss: 0.0012 - acc: 0.9997 - top5_acc: 1.0000 - top10_acc: 1.0000 - val_loss: 0.1499 - val_acc: 0.0347 - val_top5_acc: 0.1319 - val_top10_acc: 0.2014\n",
            "Epoch 87/200\n",
            "103/103 [==============================] - 2s 15ms/step - loss: 0.0012 - acc: 0.9996 - top5_acc: 1.0000 - top10_acc: 1.0000 - val_loss: 0.1597 - val_acc: 0.0208 - val_top5_acc: 0.1458 - val_top10_acc: 0.1875\n",
            "Epoch 88/200\n",
            "103/103 [==============================] - 2s 15ms/step - loss: 0.0019 - acc: 0.9925 - top5_acc: 1.0000 - top10_acc: 1.0000 - val_loss: 0.1498 - val_acc: 0.0486 - val_top5_acc: 0.1458 - val_top10_acc: 0.2431\n",
            "Epoch 89/200\n",
            "103/103 [==============================] - 1s 14ms/step - loss: 0.0017 - acc: 0.9937 - top5_acc: 1.0000 - top10_acc: 1.0000 - val_loss: 0.1534 - val_acc: 0.0347 - val_top5_acc: 0.1458 - val_top10_acc: 0.2153\n",
            "Epoch 90/200\n",
            "103/103 [==============================] - 1s 14ms/step - loss: 0.0014 - acc: 0.9982 - top5_acc: 1.0000 - top10_acc: 1.0000 - val_loss: 0.1548 - val_acc: 0.0208 - val_top5_acc: 0.1319 - val_top10_acc: 0.2431\n",
            "Epoch 91/200\n",
            "103/103 [==============================] - 1s 14ms/step - loss: 0.0010 - acc: 0.9977 - top5_acc: 1.0000 - top10_acc: 1.0000 - val_loss: 0.1623 - val_acc: 0.0139 - val_top5_acc: 0.1319 - val_top10_acc: 0.2014\n",
            "Epoch 92/200\n",
            "103/103 [==============================] - 1s 14ms/step - loss: 7.8493e-04 - acc: 0.9998 - top5_acc: 1.0000 - top10_acc: 1.0000 - val_loss: 0.1656 - val_acc: 0.0347 - val_top5_acc: 0.1319 - val_top10_acc: 0.1944\n",
            "Epoch 93/200\n",
            "103/103 [==============================] - 1s 14ms/step - loss: 7.5125e-04 - acc: 1.0000 - top5_acc: 1.0000 - top10_acc: 1.0000 - val_loss: 0.1631 - val_acc: 0.0278 - val_top5_acc: 0.1458 - val_top10_acc: 0.2153\n",
            "Epoch 94/200\n",
            "103/103 [==============================] - 2s 15ms/step - loss: 7.0553e-04 - acc: 0.9990 - top5_acc: 1.0000 - top10_acc: 1.0000 - val_loss: 0.1715 - val_acc: 0.0347 - val_top5_acc: 0.1528 - val_top10_acc: 0.2153\n",
            "Epoch 95/200\n",
            "103/103 [==============================] - 1s 14ms/step - loss: 5.0027e-04 - acc: 1.0000 - top5_acc: 1.0000 - top10_acc: 1.0000 - val_loss: 0.1706 - val_acc: 0.0417 - val_top5_acc: 0.1319 - val_top10_acc: 0.2222\n",
            "Epoch 96/200\n",
            "103/103 [==============================] - 1s 14ms/step - loss: 5.1030e-04 - acc: 1.0000 - top5_acc: 1.0000 - top10_acc: 1.0000 - val_loss: 0.1708 - val_acc: 0.0347 - val_top5_acc: 0.1389 - val_top10_acc: 0.2153\n",
            "Epoch 97/200\n",
            "103/103 [==============================] - 1s 14ms/step - loss: 6.4165e-04 - acc: 1.0000 - top5_acc: 1.0000 - top10_acc: 1.0000 - val_loss: 0.1739 - val_acc: 0.0347 - val_top5_acc: 0.1389 - val_top10_acc: 0.2292\n",
            "Epoch 98/200\n",
            "103/103 [==============================] - 2s 15ms/step - loss: 8.2858e-04 - acc: 1.0000 - top5_acc: 1.0000 - top10_acc: 1.0000 - val_loss: 0.1646 - val_acc: 0.0556 - val_top5_acc: 0.1528 - val_top10_acc: 0.2153\n",
            "Epoch 99/200\n",
            "103/103 [==============================] - 1s 14ms/step - loss: 0.0025 - acc: 0.9786 - top5_acc: 1.0000 - top10_acc: 1.0000 - val_loss: 0.1544 - val_acc: 0.0486 - val_top5_acc: 0.1597 - val_top10_acc: 0.2292\n",
            "Epoch 100/200\n",
            "103/103 [==============================] - 2s 14ms/step - loss: 0.0029 - acc: 0.9707 - top5_acc: 0.9982 - top10_acc: 1.0000 - val_loss: 0.1761 - val_acc: 0.0347 - val_top5_acc: 0.1111 - val_top10_acc: 0.1944\n",
            "Epoch 101/200\n",
            "103/103 [==============================] - 2s 15ms/step - loss: 0.0020 - acc: 0.9899 - top5_acc: 1.0000 - top10_acc: 1.0000 - val_loss: 0.1601 - val_acc: 0.0556 - val_top5_acc: 0.1319 - val_top10_acc: 0.1806\n",
            "Epoch 102/200\n",
            "103/103 [==============================] - 2s 15ms/step - loss: 9.5179e-04 - acc: 0.9962 - top5_acc: 1.0000 - top10_acc: 1.0000 - val_loss: 0.1685 - val_acc: 0.0417 - val_top5_acc: 0.1458 - val_top10_acc: 0.2292\n",
            "Epoch 103/200\n",
            "103/103 [==============================] - 2s 15ms/step - loss: 5.8528e-04 - acc: 1.0000 - top5_acc: 1.0000 - top10_acc: 1.0000 - val_loss: 0.1760 - val_acc: 0.0347 - val_top5_acc: 0.1528 - val_top10_acc: 0.2292\n",
            "Epoch 104/200\n",
            "103/103 [==============================] - 2s 15ms/step - loss: 2.7632e-04 - acc: 1.0000 - top5_acc: 1.0000 - top10_acc: 1.0000 - val_loss: 0.1772 - val_acc: 0.0208 - val_top5_acc: 0.1458 - val_top10_acc: 0.2153\n",
            "Epoch 105/200\n",
            "103/103 [==============================] - 2s 15ms/step - loss: 2.5405e-04 - acc: 1.0000 - top5_acc: 1.0000 - top10_acc: 1.0000 - val_loss: 0.1811 - val_acc: 0.0347 - val_top5_acc: 0.1667 - val_top10_acc: 0.2222\n",
            "Epoch 106/200\n",
            "103/103 [==============================] - 2s 15ms/step - loss: 1.9795e-04 - acc: 1.0000 - top5_acc: 1.0000 - top10_acc: 1.0000 - val_loss: 0.1831 - val_acc: 0.0417 - val_top5_acc: 0.1597 - val_top10_acc: 0.2361\n",
            "Epoch 107/200\n",
            "103/103 [==============================] - 2s 15ms/step - loss: 1.9946e-04 - acc: 1.0000 - top5_acc: 1.0000 - top10_acc: 1.0000 - val_loss: 0.1865 - val_acc: 0.0347 - val_top5_acc: 0.1528 - val_top10_acc: 0.2153\n",
            "Epoch 108/200\n",
            "103/103 [==============================] - 2s 15ms/step - loss: 1.7322e-04 - acc: 1.0000 - top5_acc: 1.0000 - top10_acc: 1.0000 - val_loss: 0.1841 - val_acc: 0.0347 - val_top5_acc: 0.1597 - val_top10_acc: 0.2361\n",
            "Epoch 109/200\n",
            "103/103 [==============================] - 2s 15ms/step - loss: 1.7680e-04 - acc: 1.0000 - top5_acc: 1.0000 - top10_acc: 1.0000 - val_loss: 0.1892 - val_acc: 0.0417 - val_top5_acc: 0.1528 - val_top10_acc: 0.2222\n",
            "Epoch 110/200\n",
            "103/103 [==============================] - 2s 15ms/step - loss: 1.9678e-04 - acc: 1.0000 - top5_acc: 1.0000 - top10_acc: 1.0000 - val_loss: 0.1897 - val_acc: 0.0417 - val_top5_acc: 0.1667 - val_top10_acc: 0.2222\n",
            "Epoch 111/200\n",
            "103/103 [==============================] - 1s 14ms/step - loss: 1.4536e-04 - acc: 1.0000 - top5_acc: 1.0000 - top10_acc: 1.0000 - val_loss: 0.1930 - val_acc: 0.0417 - val_top5_acc: 0.1597 - val_top10_acc: 0.2361\n",
            "Epoch 112/200\n",
            "103/103 [==============================] - 2s 15ms/step - loss: 1.5740e-04 - acc: 1.0000 - top5_acc: 1.0000 - top10_acc: 1.0000 - val_loss: 0.1934 - val_acc: 0.0347 - val_top5_acc: 0.1667 - val_top10_acc: 0.2222\n",
            "Epoch 113/200\n",
            "103/103 [==============================] - 2s 14ms/step - loss: 1.5039e-04 - acc: 1.0000 - top5_acc: 1.0000 - top10_acc: 1.0000 - val_loss: 0.1967 - val_acc: 0.0347 - val_top5_acc: 0.1528 - val_top10_acc: 0.2153\n",
            "Epoch 114/200\n",
            "103/103 [==============================] - 2s 15ms/step - loss: 1.4213e-04 - acc: 1.0000 - top5_acc: 1.0000 - top10_acc: 1.0000 - val_loss: 0.1992 - val_acc: 0.0347 - val_top5_acc: 0.1319 - val_top10_acc: 0.2153\n",
            "Epoch 115/200\n",
            "103/103 [==============================] - 2s 15ms/step - loss: 1.3962e-04 - acc: 1.0000 - top5_acc: 1.0000 - top10_acc: 1.0000 - val_loss: 0.1933 - val_acc: 0.0278 - val_top5_acc: 0.1597 - val_top10_acc: 0.2292\n",
            "Epoch 116/200\n",
            "103/103 [==============================] - 2s 15ms/step - loss: 5.1506e-04 - acc: 0.9974 - top5_acc: 0.9998 - top10_acc: 1.0000 - val_loss: 0.1859 - val_acc: 0.0417 - val_top5_acc: 0.1389 - val_top10_acc: 0.2361\n",
            "Epoch 117/200\n",
            "103/103 [==============================] - 2s 15ms/step - loss: 0.0063 - acc: 0.8939 - top5_acc: 0.9928 - top10_acc: 1.0000 - val_loss: 0.1661 - val_acc: 0.0694 - val_top5_acc: 0.1458 - val_top10_acc: 0.2014\n",
            "Epoch 118/200\n",
            "103/103 [==============================] - 2s 15ms/step - loss: 0.0025 - acc: 0.9796 - top5_acc: 1.0000 - top10_acc: 1.0000 - val_loss: 0.1786 - val_acc: 0.0417 - val_top5_acc: 0.1458 - val_top10_acc: 0.2014\n",
            "Epoch 119/200\n",
            "103/103 [==============================] - 2s 15ms/step - loss: 0.0012 - acc: 0.9968 - top5_acc: 1.0000 - top10_acc: 1.0000 - val_loss: 0.1863 - val_acc: 0.0417 - val_top5_acc: 0.1528 - val_top10_acc: 0.2153\n",
            "Epoch 120/200\n",
            "103/103 [==============================] - 2s 15ms/step - loss: 4.8075e-04 - acc: 0.9990 - top5_acc: 1.0000 - top10_acc: 1.0000 - val_loss: 0.1996 - val_acc: 0.0417 - val_top5_acc: 0.1319 - val_top10_acc: 0.2083\n",
            "Epoch 121/200\n",
            "103/103 [==============================] - 1s 14ms/step - loss: 2.7842e-04 - acc: 1.0000 - top5_acc: 1.0000 - top10_acc: 1.0000 - val_loss: 0.1932 - val_acc: 0.0417 - val_top5_acc: 0.1389 - val_top10_acc: 0.2361\n",
            "Epoch 122/200\n",
            "103/103 [==============================] - 2s 15ms/step - loss: 1.4807e-04 - acc: 1.0000 - top5_acc: 1.0000 - top10_acc: 1.0000 - val_loss: 0.2013 - val_acc: 0.0347 - val_top5_acc: 0.1319 - val_top10_acc: 0.2083\n",
            "Epoch 123/200\n",
            "103/103 [==============================] - 2s 15ms/step - loss: 1.1029e-04 - acc: 1.0000 - top5_acc: 1.0000 - top10_acc: 1.0000 - val_loss: 0.2005 - val_acc: 0.0417 - val_top5_acc: 0.1250 - val_top10_acc: 0.2153\n",
            "Epoch 124/200\n",
            "103/103 [==============================] - 2s 15ms/step - loss: 1.0354e-04 - acc: 1.0000 - top5_acc: 1.0000 - top10_acc: 1.0000 - val_loss: 0.1999 - val_acc: 0.0417 - val_top5_acc: 0.1389 - val_top10_acc: 0.2292\n",
            "Epoch 125/200\n",
            "103/103 [==============================] - 2s 15ms/step - loss: 9.7255e-05 - acc: 1.0000 - top5_acc: 1.0000 - top10_acc: 1.0000 - val_loss: 0.2010 - val_acc: 0.0417 - val_top5_acc: 0.1528 - val_top10_acc: 0.2153\n",
            "Epoch 126/200\n",
            "103/103 [==============================] - 2s 15ms/step - loss: 9.3251e-05 - acc: 1.0000 - top5_acc: 1.0000 - top10_acc: 1.0000 - val_loss: 0.2064 - val_acc: 0.0347 - val_top5_acc: 0.1389 - val_top10_acc: 0.2083\n",
            "Epoch 127/200\n",
            "103/103 [==============================] - 2s 15ms/step - loss: 8.4412e-05 - acc: 1.0000 - top5_acc: 1.0000 - top10_acc: 1.0000 - val_loss: 0.2029 - val_acc: 0.0347 - val_top5_acc: 0.1458 - val_top10_acc: 0.2222\n",
            "Epoch 128/200\n",
            "103/103 [==============================] - 1s 14ms/step - loss: 7.7900e-05 - acc: 1.0000 - top5_acc: 1.0000 - top10_acc: 1.0000 - val_loss: 0.2076 - val_acc: 0.0347 - val_top5_acc: 0.1458 - val_top10_acc: 0.2153\n",
            "Epoch 129/200\n",
            "103/103 [==============================] - 2s 16ms/step - loss: 7.9453e-05 - acc: 1.0000 - top5_acc: 1.0000 - top10_acc: 1.0000 - val_loss: 0.2069 - val_acc: 0.0347 - val_top5_acc: 0.1597 - val_top10_acc: 0.2292\n",
            "Epoch 130/200\n",
            "103/103 [==============================] - 2s 15ms/step - loss: 7.4767e-05 - acc: 1.0000 - top5_acc: 1.0000 - top10_acc: 1.0000 - val_loss: 0.2135 - val_acc: 0.0278 - val_top5_acc: 0.1458 - val_top10_acc: 0.2222\n",
            "Epoch 131/200\n",
            "103/103 [==============================] - 2s 15ms/step - loss: 7.2784e-05 - acc: 1.0000 - top5_acc: 1.0000 - top10_acc: 1.0000 - val_loss: 0.2148 - val_acc: 0.0347 - val_top5_acc: 0.1319 - val_top10_acc: 0.2222\n",
            "Epoch 132/200\n",
            "103/103 [==============================] - 2s 15ms/step - loss: 6.8771e-05 - acc: 1.0000 - top5_acc: 1.0000 - top10_acc: 1.0000 - val_loss: 0.2138 - val_acc: 0.0347 - val_top5_acc: 0.1389 - val_top10_acc: 0.2222\n",
            "Epoch 133/200\n",
            "103/103 [==============================] - 2s 15ms/step - loss: 6.8457e-05 - acc: 1.0000 - top5_acc: 1.0000 - top10_acc: 1.0000 - val_loss: 0.2169 - val_acc: 0.0347 - val_top5_acc: 0.1458 - val_top10_acc: 0.2153\n",
            "Epoch 134/200\n",
            "103/103 [==============================] - 2s 15ms/step - loss: 6.2986e-05 - acc: 1.0000 - top5_acc: 1.0000 - top10_acc: 1.0000 - val_loss: 0.2214 - val_acc: 0.0347 - val_top5_acc: 0.1389 - val_top10_acc: 0.2222\n",
            "Epoch 135/200\n",
            "103/103 [==============================] - 2s 15ms/step - loss: 5.8924e-05 - acc: 1.0000 - top5_acc: 1.0000 - top10_acc: 1.0000 - val_loss: 0.2163 - val_acc: 0.0278 - val_top5_acc: 0.1389 - val_top10_acc: 0.2153\n",
            "Epoch 136/200\n",
            "103/103 [==============================] - 2s 15ms/step - loss: 6.3562e-05 - acc: 1.0000 - top5_acc: 1.0000 - top10_acc: 1.0000 - val_loss: 0.2174 - val_acc: 0.0347 - val_top5_acc: 0.1389 - val_top10_acc: 0.2014\n",
            "Epoch 137/200\n",
            "103/103 [==============================] - 2s 15ms/step - loss: 5.0956e-04 - acc: 0.9943 - top5_acc: 0.9995 - top10_acc: 1.0000 - val_loss: 0.1836 - val_acc: 0.0486 - val_top5_acc: 0.1389 - val_top10_acc: 0.2292\n",
            "Epoch 138/200\n",
            "103/103 [==============================] - 2s 15ms/step - loss: 0.0073 - acc: 0.8735 - top5_acc: 0.9864 - top10_acc: 0.9988 - val_loss: 0.1611 - val_acc: 0.0347 - val_top5_acc: 0.1389 - val_top10_acc: 0.2153\n",
            "Epoch 139/200\n",
            "103/103 [==============================] - 2s 16ms/step - loss: 0.0021 - acc: 0.9805 - top5_acc: 1.0000 - top10_acc: 1.0000 - val_loss: 0.1758 - val_acc: 0.0486 - val_top5_acc: 0.1806 - val_top10_acc: 0.2500\n",
            "Epoch 140/200\n",
            "103/103 [==============================] - 2s 15ms/step - loss: 6.9637e-04 - acc: 0.9983 - top5_acc: 1.0000 - top10_acc: 1.0000 - val_loss: 0.1842 - val_acc: 0.0417 - val_top5_acc: 0.1528 - val_top10_acc: 0.2431\n",
            "Epoch 141/200\n",
            "103/103 [==============================] - 2s 15ms/step - loss: 2.3109e-04 - acc: 1.0000 - top5_acc: 1.0000 - top10_acc: 1.0000 - val_loss: 0.1911 - val_acc: 0.0278 - val_top5_acc: 0.1528 - val_top10_acc: 0.2292\n",
            "Epoch 142/200\n",
            "103/103 [==============================] - 2s 15ms/step - loss: 1.3029e-04 - acc: 1.0000 - top5_acc: 1.0000 - top10_acc: 1.0000 - val_loss: 0.1939 - val_acc: 0.0417 - val_top5_acc: 0.1597 - val_top10_acc: 0.2431\n",
            "Epoch 143/200\n",
            "103/103 [==============================] - 2s 15ms/step - loss: 9.3847e-05 - acc: 1.0000 - top5_acc: 1.0000 - top10_acc: 1.0000 - val_loss: 0.1991 - val_acc: 0.0278 - val_top5_acc: 0.1389 - val_top10_acc: 0.2083\n",
            "Epoch 144/200\n",
            "103/103 [==============================] - 2s 15ms/step - loss: 9.5701e-05 - acc: 1.0000 - top5_acc: 1.0000 - top10_acc: 1.0000 - val_loss: 0.2002 - val_acc: 0.0278 - val_top5_acc: 0.1597 - val_top10_acc: 0.2361\n",
            "Epoch 145/200\n",
            "103/103 [==============================] - 2s 15ms/step - loss: 7.9019e-05 - acc: 1.0000 - top5_acc: 1.0000 - top10_acc: 1.0000 - val_loss: 0.1991 - val_acc: 0.0347 - val_top5_acc: 0.1528 - val_top10_acc: 0.2431\n",
            "Epoch 146/200\n",
            "103/103 [==============================] - 2s 15ms/step - loss: 7.2385e-05 - acc: 1.0000 - top5_acc: 1.0000 - top10_acc: 1.0000 - val_loss: 0.2050 - val_acc: 0.0278 - val_top5_acc: 0.1528 - val_top10_acc: 0.2361\n",
            "Epoch 147/200\n",
            "103/103 [==============================] - 2s 15ms/step - loss: 7.0824e-05 - acc: 1.0000 - top5_acc: 1.0000 - top10_acc: 1.0000 - val_loss: 0.2043 - val_acc: 0.0347 - val_top5_acc: 0.1597 - val_top10_acc: 0.2500\n",
            "Epoch 148/200\n",
            "103/103 [==============================] - 2s 15ms/step - loss: 6.4674e-05 - acc: 1.0000 - top5_acc: 1.0000 - top10_acc: 1.0000 - val_loss: 0.2062 - val_acc: 0.0347 - val_top5_acc: 0.1528 - val_top10_acc: 0.2361\n",
            "Epoch 149/200\n",
            "103/103 [==============================] - 2s 15ms/step - loss: 6.0808e-05 - acc: 1.0000 - top5_acc: 1.0000 - top10_acc: 1.0000 - val_loss: 0.2121 - val_acc: 0.0347 - val_top5_acc: 0.1528 - val_top10_acc: 0.2292\n",
            "Epoch 150/200\n",
            "103/103 [==============================] - 2s 15ms/step - loss: 5.6968e-05 - acc: 1.0000 - top5_acc: 1.0000 - top10_acc: 1.0000 - val_loss: 0.2124 - val_acc: 0.0347 - val_top5_acc: 0.1458 - val_top10_acc: 0.2222\n",
            "Epoch 151/200\n",
            "103/103 [==============================] - 2s 15ms/step - loss: 5.3314e-05 - acc: 1.0000 - top5_acc: 1.0000 - top10_acc: 1.0000 - val_loss: 0.2123 - val_acc: 0.0347 - val_top5_acc: 0.1528 - val_top10_acc: 0.2361\n",
            "Epoch 152/200\n",
            "103/103 [==============================] - 2s 15ms/step - loss: 5.0232e-05 - acc: 1.0000 - top5_acc: 1.0000 - top10_acc: 1.0000 - val_loss: 0.2152 - val_acc: 0.0347 - val_top5_acc: 0.1458 - val_top10_acc: 0.2222\n",
            "Epoch 153/200\n",
            "103/103 [==============================] - 2s 15ms/step - loss: 4.6336e-05 - acc: 1.0000 - top5_acc: 1.0000 - top10_acc: 1.0000 - val_loss: 0.2145 - val_acc: 0.0347 - val_top5_acc: 0.1528 - val_top10_acc: 0.2361\n",
            "Epoch 154/200\n",
            "103/103 [==============================] - 2s 15ms/step - loss: 4.5167e-05 - acc: 1.0000 - top5_acc: 1.0000 - top10_acc: 1.0000 - val_loss: 0.2205 - val_acc: 0.0347 - val_top5_acc: 0.1458 - val_top10_acc: 0.2292\n",
            "Epoch 155/200\n",
            "103/103 [==============================] - 2s 15ms/step - loss: 4.2618e-05 - acc: 1.0000 - top5_acc: 1.0000 - top10_acc: 1.0000 - val_loss: 0.2185 - val_acc: 0.0347 - val_top5_acc: 0.1528 - val_top10_acc: 0.2361\n",
            "Epoch 156/200\n",
            "103/103 [==============================] - 1s 14ms/step - loss: 4.3102e-05 - acc: 1.0000 - top5_acc: 1.0000 - top10_acc: 1.0000 - val_loss: 0.2174 - val_acc: 0.0347 - val_top5_acc: 0.1597 - val_top10_acc: 0.2431\n",
            "Epoch 157/200\n",
            "103/103 [==============================] - 2s 15ms/step - loss: 4.0383e-05 - acc: 1.0000 - top5_acc: 1.0000 - top10_acc: 1.0000 - val_loss: 0.2257 - val_acc: 0.0278 - val_top5_acc: 0.1528 - val_top10_acc: 0.2222\n",
            "Epoch 158/200\n",
            "103/103 [==============================] - 2s 15ms/step - loss: 4.8208e-05 - acc: 1.0000 - top5_acc: 1.0000 - top10_acc: 1.0000 - val_loss: 0.2197 - val_acc: 0.0347 - val_top5_acc: 0.1597 - val_top10_acc: 0.2361\n",
            "Epoch 159/200\n",
            "103/103 [==============================] - 2s 15ms/step - loss: 4.0209e-05 - acc: 1.0000 - top5_acc: 1.0000 - top10_acc: 1.0000 - val_loss: 0.2198 - val_acc: 0.0347 - val_top5_acc: 0.1597 - val_top10_acc: 0.2361\n",
            "Epoch 160/200\n",
            "103/103 [==============================] - 2s 15ms/step - loss: 3.6377e-05 - acc: 1.0000 - top5_acc: 1.0000 - top10_acc: 1.0000 - val_loss: 0.2206 - val_acc: 0.0347 - val_top5_acc: 0.1528 - val_top10_acc: 0.2361\n",
            "Epoch 161/200\n",
            "103/103 [==============================] - 2s 15ms/step - loss: 3.2596e-05 - acc: 1.0000 - top5_acc: 1.0000 - top10_acc: 1.0000 - val_loss: 0.2312 - val_acc: 0.0347 - val_top5_acc: 0.1528 - val_top10_acc: 0.2153\n",
            "Epoch 162/200\n",
            "103/103 [==============================] - 2s 15ms/step - loss: 3.3766e-05 - acc: 1.0000 - top5_acc: 1.0000 - top10_acc: 1.0000 - val_loss: 0.2223 - val_acc: 0.0278 - val_top5_acc: 0.1528 - val_top10_acc: 0.2361\n",
            "Epoch 163/200\n",
            "103/103 [==============================] - 2s 15ms/step - loss: 3.3781e-05 - acc: 1.0000 - top5_acc: 1.0000 - top10_acc: 1.0000 - val_loss: 0.2270 - val_acc: 0.0347 - val_top5_acc: 0.1458 - val_top10_acc: 0.2361\n",
            "Epoch 164/200\n",
            "103/103 [==============================] - 2s 15ms/step - loss: 0.0032 - acc: 0.9388 - top5_acc: 0.9906 - top10_acc: 0.9962 - val_loss: 0.1629 - val_acc: 0.0347 - val_top5_acc: 0.1181 - val_top10_acc: 0.2083\n",
            "Epoch 165/200\n",
            "103/103 [==============================] - 2s 15ms/step - loss: 0.0041 - acc: 0.9413 - top5_acc: 0.9994 - top10_acc: 1.0000 - val_loss: 0.1747 - val_acc: 0.0278 - val_top5_acc: 0.1597 - val_top10_acc: 0.2014\n",
            "Epoch 166/200\n",
            "103/103 [==============================] - 2s 15ms/step - loss: 0.0011 - acc: 0.9972 - top5_acc: 1.0000 - top10_acc: 1.0000 - val_loss: 0.1836 - val_acc: 0.0417 - val_top5_acc: 0.1528 - val_top10_acc: 0.2361\n",
            "Epoch 167/200\n",
            "103/103 [==============================] - 2s 15ms/step - loss: 3.1391e-04 - acc: 1.0000 - top5_acc: 1.0000 - top10_acc: 1.0000 - val_loss: 0.1932 - val_acc: 0.0417 - val_top5_acc: 0.1389 - val_top10_acc: 0.2153\n",
            "Epoch 168/200\n",
            "103/103 [==============================] - 2s 15ms/step - loss: 1.1457e-04 - acc: 1.0000 - top5_acc: 1.0000 - top10_acc: 1.0000 - val_loss: 0.2025 - val_acc: 0.0417 - val_top5_acc: 0.1528 - val_top10_acc: 0.2292\n",
            "Epoch 169/200\n",
            "103/103 [==============================] - 2s 15ms/step - loss: 9.2924e-05 - acc: 1.0000 - top5_acc: 1.0000 - top10_acc: 1.0000 - val_loss: 0.2032 - val_acc: 0.0417 - val_top5_acc: 0.1458 - val_top10_acc: 0.2222\n",
            "Epoch 170/200\n",
            "103/103 [==============================] - 2s 15ms/step - loss: 7.3089e-05 - acc: 1.0000 - top5_acc: 1.0000 - top10_acc: 1.0000 - val_loss: 0.2061 - val_acc: 0.0347 - val_top5_acc: 0.1458 - val_top10_acc: 0.2222\n",
            "Epoch 171/200\n",
            "103/103 [==============================] - 2s 15ms/step - loss: 6.7046e-05 - acc: 1.0000 - top5_acc: 1.0000 - top10_acc: 1.0000 - val_loss: 0.2077 - val_acc: 0.0347 - val_top5_acc: 0.1528 - val_top10_acc: 0.2361\n",
            "Epoch 172/200\n",
            "103/103 [==============================] - 2s 15ms/step - loss: 6.0026e-05 - acc: 1.0000 - top5_acc: 1.0000 - top10_acc: 1.0000 - val_loss: 0.2108 - val_acc: 0.0347 - val_top5_acc: 0.1528 - val_top10_acc: 0.2361\n",
            "Epoch 173/200\n",
            "103/103 [==============================] - 2s 15ms/step - loss: 5.6245e-05 - acc: 1.0000 - top5_acc: 1.0000 - top10_acc: 1.0000 - val_loss: 0.2146 - val_acc: 0.0347 - val_top5_acc: 0.1458 - val_top10_acc: 0.2361\n",
            "Epoch 174/200\n",
            "103/103 [==============================] - 2s 15ms/step - loss: 5.2143e-05 - acc: 1.0000 - top5_acc: 1.0000 - top10_acc: 1.0000 - val_loss: 0.2116 - val_acc: 0.0347 - val_top5_acc: 0.1458 - val_top10_acc: 0.2361\n",
            "Epoch 175/200\n",
            "103/103 [==============================] - 2s 15ms/step - loss: 4.7275e-05 - acc: 1.0000 - top5_acc: 1.0000 - top10_acc: 1.0000 - val_loss: 0.2179 - val_acc: 0.0347 - val_top5_acc: 0.1528 - val_top10_acc: 0.2292\n",
            "Epoch 176/200\n",
            "103/103 [==============================] - 2s 15ms/step - loss: 4.2015e-05 - acc: 1.0000 - top5_acc: 1.0000 - top10_acc: 1.0000 - val_loss: 0.2199 - val_acc: 0.0208 - val_top5_acc: 0.1389 - val_top10_acc: 0.2292\n",
            "Epoch 177/200\n",
            "103/103 [==============================] - 2s 15ms/step - loss: 4.4250e-05 - acc: 1.0000 - top5_acc: 1.0000 - top10_acc: 1.0000 - val_loss: 0.2206 - val_acc: 0.0347 - val_top5_acc: 0.1528 - val_top10_acc: 0.2222\n",
            "Epoch 178/200\n",
            "103/103 [==============================] - 2s 15ms/step - loss: 3.8078e-05 - acc: 1.0000 - top5_acc: 1.0000 - top10_acc: 1.0000 - val_loss: 0.2250 - val_acc: 0.0347 - val_top5_acc: 0.1389 - val_top10_acc: 0.2153\n",
            "Epoch 179/200\n",
            "103/103 [==============================] - 2s 15ms/step - loss: 3.5970e-05 - acc: 1.0000 - top5_acc: 1.0000 - top10_acc: 1.0000 - val_loss: 0.2221 - val_acc: 0.0347 - val_top5_acc: 0.1528 - val_top10_acc: 0.2292\n",
            "Epoch 180/200\n",
            "103/103 [==============================] - 2s 15ms/step - loss: 3.4414e-05 - acc: 1.0000 - top5_acc: 1.0000 - top10_acc: 1.0000 - val_loss: 0.2260 - val_acc: 0.0278 - val_top5_acc: 0.1458 - val_top10_acc: 0.2292\n",
            "Epoch 181/200\n",
            "103/103 [==============================] - 2s 15ms/step - loss: 3.4084e-05 - acc: 1.0000 - top5_acc: 1.0000 - top10_acc: 1.0000 - val_loss: 0.2275 - val_acc: 0.0278 - val_top5_acc: 0.1389 - val_top10_acc: 0.2222\n",
            "Epoch 182/200\n",
            "103/103 [==============================] - 2s 15ms/step - loss: 3.3370e-05 - acc: 1.0000 - top5_acc: 1.0000 - top10_acc: 1.0000 - val_loss: 0.2267 - val_acc: 0.0347 - val_top5_acc: 0.1458 - val_top10_acc: 0.2292\n",
            "Epoch 183/200\n",
            "103/103 [==============================] - 2s 15ms/step - loss: 3.1786e-05 - acc: 1.0000 - top5_acc: 1.0000 - top10_acc: 1.0000 - val_loss: 0.2327 - val_acc: 0.0278 - val_top5_acc: 0.1458 - val_top10_acc: 0.2153\n",
            "Epoch 184/200\n",
            "103/103 [==============================] - 2s 15ms/step - loss: 3.1372e-05 - acc: 1.0000 - top5_acc: 1.0000 - top10_acc: 1.0000 - val_loss: 0.2333 - val_acc: 0.0278 - val_top5_acc: 0.1458 - val_top10_acc: 0.2292\n",
            "Epoch 185/200\n",
            "103/103 [==============================] - 2s 15ms/step - loss: 2.8897e-05 - acc: 1.0000 - top5_acc: 1.0000 - top10_acc: 1.0000 - val_loss: 0.2309 - val_acc: 0.0347 - val_top5_acc: 0.1528 - val_top10_acc: 0.2361\n",
            "Epoch 186/200\n",
            "103/103 [==============================] - 2s 15ms/step - loss: 2.8443e-05 - acc: 1.0000 - top5_acc: 1.0000 - top10_acc: 1.0000 - val_loss: 0.2331 - val_acc: 0.0347 - val_top5_acc: 0.1458 - val_top10_acc: 0.2292\n",
            "Epoch 187/200\n",
            "103/103 [==============================] - 2s 15ms/step - loss: 2.5711e-05 - acc: 1.0000 - top5_acc: 1.0000 - top10_acc: 1.0000 - val_loss: 0.2280 - val_acc: 0.0347 - val_top5_acc: 0.1458 - val_top10_acc: 0.2361\n",
            "Epoch 188/200\n",
            "103/103 [==============================] - 2s 15ms/step - loss: 2.6062e-05 - acc: 1.0000 - top5_acc: 1.0000 - top10_acc: 1.0000 - val_loss: 0.2305 - val_acc: 0.0347 - val_top5_acc: 0.1528 - val_top10_acc: 0.2292\n",
            "Epoch 189/200\n",
            "103/103 [==============================] - 2s 15ms/step - loss: 2.3424e-05 - acc: 1.0000 - top5_acc: 1.0000 - top10_acc: 1.0000 - val_loss: 0.2354 - val_acc: 0.0347 - val_top5_acc: 0.1458 - val_top10_acc: 0.2153\n",
            "Epoch 190/200\n",
            "103/103 [==============================] - 2s 15ms/step - loss: 2.1541e-05 - acc: 1.0000 - top5_acc: 1.0000 - top10_acc: 1.0000 - val_loss: 0.2343 - val_acc: 0.0347 - val_top5_acc: 0.1597 - val_top10_acc: 0.2361\n",
            "Epoch 191/200\n",
            "103/103 [==============================] - 2s 15ms/step - loss: 2.2681e-05 - acc: 1.0000 - top5_acc: 1.0000 - top10_acc: 1.0000 - val_loss: 0.2430 - val_acc: 0.0417 - val_top5_acc: 0.1250 - val_top10_acc: 0.2083\n",
            "Epoch 192/200\n",
            "103/103 [==============================] - 2s 15ms/step - loss: 3.9274e-05 - acc: 1.0000 - top5_acc: 1.0000 - top10_acc: 1.0000 - val_loss: 0.2269 - val_acc: 0.0486 - val_top5_acc: 0.1250 - val_top10_acc: 0.2222\n",
            "Epoch 193/200\n",
            "103/103 [==============================] - 2s 15ms/step - loss: 0.0086 - acc: 0.8446 - top5_acc: 0.9821 - top10_acc: 0.9960 - val_loss: 0.1679 - val_acc: 0.0278 - val_top5_acc: 0.1597 - val_top10_acc: 0.2292\n",
            "Epoch 194/200\n",
            "103/103 [==============================] - 2s 15ms/step - loss: 0.0019 - acc: 0.9898 - top5_acc: 0.9999 - top10_acc: 0.9999 - val_loss: 0.1855 - val_acc: 0.0347 - val_top5_acc: 0.1319 - val_top10_acc: 0.2014\n",
            "Epoch 195/200\n",
            "103/103 [==============================] - 2s 15ms/step - loss: 6.9838e-04 - acc: 0.9989 - top5_acc: 1.0000 - top10_acc: 1.0000 - val_loss: 0.1869 - val_acc: 0.0625 - val_top5_acc: 0.1389 - val_top10_acc: 0.2500\n",
            "Epoch 196/200\n",
            "103/103 [==============================] - 2s 15ms/step - loss: 3.9028e-04 - acc: 1.0000 - top5_acc: 1.0000 - top10_acc: 1.0000 - val_loss: 0.1965 - val_acc: 0.0486 - val_top5_acc: 0.1389 - val_top10_acc: 0.2292\n",
            "Epoch 197/200\n",
            "103/103 [==============================] - 2s 15ms/step - loss: 1.0737e-04 - acc: 1.0000 - top5_acc: 1.0000 - top10_acc: 1.0000 - val_loss: 0.1960 - val_acc: 0.0486 - val_top5_acc: 0.1458 - val_top10_acc: 0.2292\n",
            "Epoch 198/200\n",
            "103/103 [==============================] - 2s 15ms/step - loss: 6.7814e-05 - acc: 1.0000 - top5_acc: 1.0000 - top10_acc: 1.0000 - val_loss: 0.2004 - val_acc: 0.0556 - val_top5_acc: 0.1458 - val_top10_acc: 0.2361\n",
            "Epoch 199/200\n",
            "103/103 [==============================] - 2s 15ms/step - loss: 5.6963e-05 - acc: 1.0000 - top5_acc: 1.0000 - top10_acc: 1.0000 - val_loss: 0.2046 - val_acc: 0.0556 - val_top5_acc: 0.1458 - val_top10_acc: 0.2292\n",
            "Epoch 200/200\n",
            "103/103 [==============================] - 2s 15ms/step - loss: 4.9780e-05 - acc: 1.0000 - top5_acc: 1.0000 - top10_acc: 1.0000 - val_loss: 0.2072 - val_acc: 0.0556 - val_top5_acc: 0.1458 - val_top10_acc: 0.2500\n"
          ],
          "name": "stdout"
        }
      ]
    },
    {
      "cell_type": "code",
      "metadata": {
        "colab": {
          "base_uri": "https://localhost:8080/",
          "height": 1000
        },
        "id": "OGm_yn3otkJu",
        "outputId": "235f1e2a-90ad-4933-a653-0358c0d43737"
      },
      "source": [
        "plot_training_analysis()"
      ],
      "execution_count": 45,
      "outputs": [
        {
          "output_type": "display_data",
          "data": {
            "image/png": "[encoded data removed]",
            "text/plain": [
              "<Figure size 432x288 with 1 Axes>"
            ]
          },
          "metadata": {
            "tags": [],
            "needs_background": "light"
          }
        },
        {
          "output_type": "display_data",
          "data": {
            "image/png": "[encoded data removed]",
            "text/plain": [
              "<Figure size 432x288 with 1 Axes>"
            ]
          },
          "metadata": {
            "tags": [],
            "needs_background": "light"
          }
        },
        {
          "output_type": "display_data",
          "data": {
            "image/png": "[encoded data removed]",
            "text/plain": [
              "<Figure size 432x288 with 1 Axes>"
            ]
          },
          "metadata": {
            "tags": [],
            "needs_background": "light"
          }
        },
        {
          "output_type": "display_data",
          "data": {
            "image/png": "[encoded data removed]",
            "text/plain": [
              "<Figure size 432x288 with 1 Axes>"
            ]
          },
          "metadata": {
            "tags": [],
            "needs_background": "light"
          }
        },
        {
          "output_type": "display_data",
          "data": {
            "text/plain": [
              "<Figure size 432x288 with 0 Axes>"
            ]
          },
          "metadata": {
            "tags": []
          }
        }
      ]
    },
    {
      "cell_type": "markdown",
      "metadata": {
        "id": "_AI51qxMxTkD"
      },
      "source": [
        "Toujours pour tester, je vois ce que donne un réseauu de neurone réalisé moi même, un petit CNN"
      ]
    },
    {
      "cell_type": "code",
      "metadata": {
        "id": "gG-bsNZxaP6b"
      },
      "source": [
        "def top5(my_model, test_set, validation_set):\r\n",
        "\r\n",
        "  \"\"\" Compute top5 accuracy of the model over test and validation set\"\"\"\r\n",
        "\r\n",
        "  prediction_test = my_model.predict(test_set)\r\n",
        "  prediction_validation = my_model.predict(validation_set)\r\n",
        "\r\n",
        "  ind = np.argmax(prediction_validation[0, :])\r\n",
        "  #print(\"model prediction validation\", prediction_validation[0, :])\r\n",
        "  #print(\"vérification de la somme\", np.sum(prediction_validation[0, :]))\r\n",
        "  #print(\"indice max\", np.argmax(prediction_validation[0, :]))\r\n",
        "  #print(\"valeur_max\", prediction_validation[0, ind])\r\n",
        "  top5_test = np.argsort(prediction_test, axis=1)[:, -5:]\r\n",
        "  top5_validation = np.argsort(prediction_validation, axis=1)[:, -5:]\r\n",
        "\r\n",
        "  #print(top5_test)\r\n",
        "  #print(top5_validation)\r\n",
        "\r\n",
        "  bonne_reponse_test = 0\r\n",
        "  i = 0\r\n",
        "  for labels in test_generator.labels:\r\n",
        "    #print(\"i =\", i)\r\n",
        "    #print(labels)\r\n",
        "    #print(top5_test[i])\r\n",
        "    if (labels in top5_test[i, :]):\r\n",
        "      bonne_reponse_test += 1\r\n",
        "    i=i+1\r\n",
        "    #print(i)\r\n",
        "\r\n",
        "  bonne_reponse_validation = 0\r\n",
        "  i = 0\r\n",
        "  for labels in validation_generator.labels:\r\n",
        "    #print(\"i =\", i)\r\n",
        "    #print(\"true label =\", labels)\r\n",
        "    #print(\"top 5 label =\", top5_validation[i])\r\n",
        "    if (labels in top5_validation[i, :]):\r\n",
        "      bonne_reponse_validation += 1\r\n",
        "    i=i+1\r\n",
        "\r\n",
        "  bonne_reponse_test /= 151\r\n",
        "  bonne_reponse_validation /= 151\r\n",
        "\r\n",
        "  return bonne_reponse_test*100, bonne_reponse_validation*100"
      ],
      "execution_count": 46,
      "outputs": []
    },
    {
      "cell_type": "code",
      "metadata": {
        "id": "KQdGl6moZLeP"
      },
      "source": [
        "def top10(my_model, test_set, validation_set):\r\n",
        "\r\n",
        "  \"\"\" Compute top5 accuracy of the model over test and validation set\"\"\"\r\n",
        "\r\n",
        "  prediction_test = my_model.predict(test_set)\r\n",
        "  prediction_validation = my_model.predict(validation_set)\r\n",
        "\r\n",
        "  ind = np.argmax(prediction_validation[0, :])\r\n",
        "  #print(\"model prediction validation\", prediction_validation[0, :])\r\n",
        "  #print(\"vérification de la somme\", np.sum(prediction_validation[0, :]))\r\n",
        "  #print(\"indice max\", np.argmax(prediction_validation[0, :]))\r\n",
        "  #print(\"valeur_max\", prediction_validation[0, ind])\r\n",
        "  top10_test = np.argsort(prediction_test, axis=1)[:, -10:]\r\n",
        "  top10_validation = np.argsort(prediction_validation, axis=1)[:, -10:]\r\n",
        "\r\n",
        "  #print(top5_test)\r\n",
        "  #print(top5_validation)\r\n",
        "\r\n",
        "  bonne_reponse_test = 0\r\n",
        "  i = 0\r\n",
        "  for labels in test_generator.labels:\r\n",
        "    #print(\"i =\", i)\r\n",
        "    #print(labels)\r\n",
        "    #print(top5_test[i])\r\n",
        "    if (labels in top10_test[i, :]):\r\n",
        "      bonne_reponse_test += 1\r\n",
        "    i=i+1\r\n",
        "    #print(i)\r\n",
        "\r\n",
        "  bonne_reponse_validation = 0\r\n",
        "  i = 0\r\n",
        "  for labels in validation_generator.labels:\r\n",
        "    #print(\"i =\", i)\r\n",
        "    #print(\"true label =\", labels)\r\n",
        "    #print(\"top 5 label =\", top5_validation[i])\r\n",
        "    if (labels in top10_validation[i, :]):\r\n",
        "      bonne_reponse_validation += 1\r\n",
        "    i=i+1\r\n",
        "\r\n",
        "  bonne_reponse_test /= 151\r\n",
        "  bonne_reponse_validation /= 151\r\n",
        "\r\n",
        "  return bonne_reponse_test*100, bonne_reponse_validation*100"
      ],
      "execution_count": 47,
      "outputs": []
    },
    {
      "cell_type": "markdown",
      "metadata": {
        "id": "TtwbALtmwqJ-"
      },
      "source": [
        "augmentaton with imgaug"
      ]
    },
    {
      "cell_type": "code",
      "metadata": {
        "id": "W6aeuia2gEWl"
      },
      "source": [
        "from imgaug import augmenters as iaa\r\n",
        "\r\n",
        "seq = iaa.Sequential([\r\n",
        "    iaa.Fliplr(0.5), # horizontally flip 50% of the images\r\n",
        "    iaa.GaussianBlur(sigma=(0, 3.0)) # blur images with a sigma of 0 to 3.0\r\n",
        "])"
      ],
      "execution_count": 48,
      "outputs": []
    },
    {
      "cell_type": "code",
      "metadata": {
        "colab": {
          "base_uri": "https://localhost:8080/"
        },
        "id": "nQ-oQJw7zx9x",
        "outputId": "070178b3-3a5d-4e93-9c58-aaeee48f9e58"
      },
      "source": [
        "train_filenames = os.listdir(path_train_pokemon)\r\n",
        "\r\n",
        "print(\"Début des 50 data augmentations\")\r\n",
        "for i in range(50):\r\n",
        "  print(\"i =\", i)\r\n",
        "  for filename in train_filenames:\r\n",
        "    image = np.array(load_img(path_train_pokemon + filename))\r\n",
        "    image_aug = seq(images = image)\r\n",
        "\r\n",
        "    #Rescale to 0-255 and convert to uint8\r\n",
        "    rescaled = (255.0 / image_aug.max() * (image_aug - image_aug.min())).astype(np.uint8)\r\n",
        "    image_aug = Image.fromarray(rescaled)\r\n",
        "\r\n",
        "    image_aug.save(path_train_pokemon + filename.split(\".\")[0] + \"-aug\" + str(i) + \".png\")"
      ],
      "execution_count": 49,
      "outputs": [
        {
          "output_type": "stream",
          "text": [
            "Début des 50 data augmentations\n",
            "i = 0\n",
            "i = 1\n",
            "i = 2\n",
            "i = 3\n",
            "i = 4\n",
            "i = 5\n",
            "i = 6\n",
            "i = 7\n",
            "i = 8\n",
            "i = 9\n",
            "i = 10\n",
            "i = 11\n",
            "i = 12\n",
            "i = 13\n",
            "i = 14\n",
            "i = 15\n",
            "i = 16\n",
            "i = 17\n",
            "i = 18\n",
            "i = 19\n",
            "i = 20\n",
            "i = 21\n",
            "i = 22\n",
            "i = 23\n",
            "i = 24\n",
            "i = 25\n",
            "i = 26\n",
            "i = 27\n",
            "i = 28\n",
            "i = 29\n",
            "i = 30\n",
            "i = 31\n",
            "i = 32\n",
            "i = 33\n",
            "i = 34\n",
            "i = 35\n",
            "i = 36\n",
            "i = 37\n",
            "i = 38\n",
            "i = 39\n",
            "i = 40\n",
            "i = 41\n",
            "i = 42\n",
            "i = 43\n",
            "i = 44\n",
            "i = 45\n",
            "i = 46\n",
            "i = 47\n",
            "i = 48\n",
            "i = 49\n"
          ],
          "name": "stdout"
        }
      ]
    },
    {
      "cell_type": "code",
      "metadata": {
        "id": "BvtH4AD45_rn"
      },
      "source": [
        "# train labels new\r\n",
        "train_filenames = os.listdir(path_train_pokemon)\r\n",
        "train_categories=[]\r\n",
        "for filename in train_filenames:\r\n",
        "    train_categories.append(filename.split('-')[0])"
      ],
      "execution_count": 50,
      "outputs": []
    },
    {
      "cell_type": "code",
      "metadata": {
        "id": "Kl2nB36j6J8b"
      },
      "source": [
        "#Images d'entrainement\r\n",
        "train_df = pd.DataFrame({\r\n",
        "    'filename': train_filenames,\r\n",
        "    'category': train_categories\r\n",
        "})"
      ],
      "execution_count": 51,
      "outputs": []
    },
    {
      "cell_type": "code",
      "metadata": {
        "colab": {
          "base_uri": "https://localhost:8080/"
        },
        "id": "NamoSOWb6QKX",
        "outputId": "e338ab42-db77-4fc8-b61d-6c8ada4ee111"
      },
      "source": [
        "#Images d'entrainement\r\n",
        "train_datagen=ImageDataGenerator(rescale=1./255)\r\n",
        "train_generator = train_datagen.flow_from_dataframe(\r\n",
        "    train_df, \r\n",
        "    path_train_pokemon,\r\n",
        "    x_col='filename',\r\n",
        "    y_col='category',\r\n",
        "    target_size=(image_size,image_size),\r\n",
        "    batch_size=batch_size\r\n",
        ")"
      ],
      "execution_count": 52,
      "outputs": [
        {
          "output_type": "stream",
          "text": [
            "Found 84711 validated image filenames belonging to 151 classes.\n"
          ],
          "name": "stdout"
        }
      ]
    },
    {
      "cell_type": "markdown",
      "metadata": {
        "id": "5etjFFHQAUJA"
      },
      "source": [
        "On vérifie que les données ont les bons labels"
      ]
    },
    {
      "cell_type": "code",
      "metadata": {
        "colab": {
          "base_uri": "https://localhost:8080/",
          "height": 284
        },
        "id": "JuLnQkO3AXZi",
        "outputId": "f0afdb27-6d63-4dcb-c48c-51b6d9a66198"
      },
      "source": [
        "train_filenames = os.listdir(path_train_pokemon)\r\n",
        "sample = random.randint(0, 84711)\r\n",
        "image = load_img(path_train_pokemon + train_filenames[sample])\r\n",
        "plt.imshow(image)\r\n",
        "print(\"label :\", train_categories[sample])"
      ],
      "execution_count": 53,
      "outputs": [
        {
          "output_type": "stream",
          "text": [
            "label : 95\n"
          ],
          "name": "stdout"
        },
        {
          "output_type": "display_data",
          "data": {
            "image/png": "[encoded data removed]",
            "text/plain": [
              "<Figure size 432x288 with 1 Axes>"
            ]
          },
          "metadata": {
            "tags": [],
            "needs_background": "light"
          }
        }
      ]
    },
    {
      "cell_type": "code",
      "metadata": {
        "colab": {
          "base_uri": "https://localhost:8080/"
        },
        "id": "DvWXbSyw6Uwj",
        "outputId": "a8205eb7-e999-486e-e5df-02c55a22f7bc"
      },
      "source": [
        "conv_resnet = ResNet50(\r\n",
        "              include_top=False,\r\n",
        "              weights=\"imagenet\",\r\n",
        "              input_shape=(32, 32, 3),\r\n",
        "              classes=151\r\n",
        ")\r\n",
        "\r\n",
        "conv_resnet.trainable = True\r\n",
        "\r\n",
        "for layer in conv_resnet.layers:\r\n",
        "    if layer.name == \"res5c_branch2a\" or layer.name == \"res5c_branch2b\" or layer.name == \"res5c_branch2c\":\r\n",
        "      layer.trainable = True  \r\n",
        "    else:\r\n",
        "      layer.trainable = False\r\n",
        "\r\n",
        "#Mon input c'est du 32 32 3\r\n",
        "input = Input(shape=(32, 32, 3), name = 'image_input')\r\n",
        "\r\n",
        "output_resnet = conv_resnet(input)\r\n",
        "\r\n",
        "#On rajoute quelques layers\r\n",
        "x = Flatten(name='flatten')(output_resnet)\r\n",
        "x = Dense(2048, activation='relu', name='fc1')(x)\r\n",
        "x = Dense(2048, activation='relu', name='fc2')(x)\r\n",
        "x = Dense(151, activation='softmax', name='predictions')(x)\r\n",
        "\r\n",
        "#Mon modele à moi\r\n",
        "my_model_4 = Model(inputs=input, outputs=x)\r\n",
        "\r\n",
        "my_model_4.summary()"
      ],
      "execution_count": 54,
      "outputs": [
        {
          "output_type": "stream",
          "text": [
            "Model: \"model_5\"\n",
            "_________________________________________________________________\n",
            "Layer (type)                 Output Shape              Param #   \n",
            "=================================================================\n",
            "image_input (InputLayer)     [(None, 32, 32, 3)]       0         \n",
            "_________________________________________________________________\n",
            "resnet50 (Functional)        (None, 1, 1, 2048)        23587712  \n",
            "_________________________________________________________________\n",
            "flatten (Flatten)            (None, 2048)              0         \n",
            "_________________________________________________________________\n",
            "fc1 (Dense)                  (None, 2048)              4196352   \n",
            "_________________________________________________________________\n",
            "fc2 (Dense)                  (None, 2048)              4196352   \n",
            "_________________________________________________________________\n",
            "predictions (Dense)          (None, 151)               309399    \n",
            "=================================================================\n",
            "Total params: 32,289,815\n",
            "Trainable params: 8,702,103\n",
            "Non-trainable params: 23,587,712\n",
            "_________________________________________________________________\n"
          ],
          "name": "stdout"
        }
      ]
    },
    {
      "cell_type": "code",
      "metadata": {
        "id": "Egb_ZC0p6ZaZ"
      },
      "source": [
        "my_model_4.compile(loss='binary_crossentropy',\r\n",
        "              optimizer=optimizers.Adam(lr=3e-4),\r\n",
        "              metrics=['acc', top5_acc, top10_acc])"
      ],
      "execution_count": 55,
      "outputs": []
    },
    {
      "cell_type": "code",
      "metadata": {
        "colab": {
          "base_uri": "https://localhost:8080/"
        },
        "id": "ZSU_qWoC6cd8",
        "outputId": "a8ec464d-65be-4eb1-f679-c5aebdb52efd"
      },
      "source": [
        "history = my_model_4.fit(train_generator,\r\n",
        "                    steps_per_epoch=total_train//batch_size,\r\n",
        "                    validation_data=validation_generator,\r\n",
        "                    validation_steps=total_validate//batch_size,\r\n",
        "                    epochs=200,\r\n",
        "                    )"
      ],
      "execution_count": 56,
      "outputs": [
        {
          "output_type": "stream",
          "text": [
            "Epoch 1/200\n",
            "103/103 [==============================] - 5s 24ms/step - loss: 0.1025 - acc: 0.0062 - top5_acc: 0.0435 - top10_acc: 0.0752 - val_loss: 0.0423 - val_acc: 0.0069 - val_top5_acc: 0.0208 - val_top10_acc: 0.0556\n",
            "Epoch 2/200\n",
            "103/103 [==============================] - 1s 14ms/step - loss: 0.0420 - acc: 0.0038 - top5_acc: 0.0270 - top10_acc: 0.0548 - val_loss: 0.0414 - val_acc: 0.0069 - val_top5_acc: 0.0278 - val_top10_acc: 0.0625\n",
            "Epoch 3/200\n",
            "103/103 [==============================] - 1s 14ms/step - loss: 0.0415 - acc: 0.0094 - top5_acc: 0.0396 - top10_acc: 0.0696 - val_loss: 0.0413 - val_acc: 0.0069 - val_top5_acc: 0.0417 - val_top10_acc: 0.0833\n",
            "Epoch 4/200\n",
            "103/103 [==============================] - 1s 14ms/step - loss: 0.0410 - acc: 0.0117 - top5_acc: 0.0389 - top10_acc: 0.0859 - val_loss: 0.0414 - val_acc: 0.0069 - val_top5_acc: 0.0278 - val_top10_acc: 0.0833\n",
            "Epoch 5/200\n",
            "103/103 [==============================] - 1s 14ms/step - loss: 0.0409 - acc: 0.0079 - top5_acc: 0.0446 - top10_acc: 0.0853 - val_loss: 0.0407 - val_acc: 0.0069 - val_top5_acc: 0.0417 - val_top10_acc: 0.0764\n",
            "Epoch 6/200\n",
            "103/103 [==============================] - 1s 14ms/step - loss: 0.0405 - acc: 0.0078 - top5_acc: 0.0509 - top10_acc: 0.0904 - val_loss: 0.0415 - val_acc: 0.0208 - val_top5_acc: 0.0417 - val_top10_acc: 0.0694\n",
            "Epoch 7/200\n",
            "103/103 [==============================] - 1s 14ms/step - loss: 0.0404 - acc: 0.0224 - top5_acc: 0.0568 - top10_acc: 0.1030 - val_loss: 0.0412 - val_acc: 0.0000e+00 - val_top5_acc: 0.0347 - val_top10_acc: 0.0764\n",
            "Epoch 8/200\n",
            "103/103 [==============================] - 1s 14ms/step - loss: 0.0400 - acc: 0.0120 - top5_acc: 0.0617 - top10_acc: 0.1146 - val_loss: 0.0413 - val_acc: 0.0069 - val_top5_acc: 0.0347 - val_top10_acc: 0.0764\n",
            "Epoch 9/200\n",
            "103/103 [==============================] - 1s 14ms/step - loss: 0.0394 - acc: 0.0190 - top5_acc: 0.0787 - top10_acc: 0.1461 - val_loss: 0.0420 - val_acc: 0.0069 - val_top5_acc: 0.0417 - val_top10_acc: 0.0556\n",
            "Epoch 10/200\n",
            "103/103 [==============================] - 1s 14ms/step - loss: 0.0392 - acc: 0.0180 - top5_acc: 0.0764 - top10_acc: 0.1286 - val_loss: 0.0417 - val_acc: 0.0069 - val_top5_acc: 0.0625 - val_top10_acc: 0.1042\n",
            "Epoch 11/200\n",
            "103/103 [==============================] - 1s 14ms/step - loss: 0.0389 - acc: 0.0280 - top5_acc: 0.0935 - top10_acc: 0.1599 - val_loss: 0.0412 - val_acc: 0.0069 - val_top5_acc: 0.0417 - val_top10_acc: 0.1042\n",
            "Epoch 12/200\n",
            "103/103 [==============================] - 1s 14ms/step - loss: 0.0384 - acc: 0.0226 - top5_acc: 0.1102 - top10_acc: 0.1952 - val_loss: 0.0426 - val_acc: 0.0278 - val_top5_acc: 0.0556 - val_top10_acc: 0.0625\n",
            "Epoch 13/200\n",
            "103/103 [==============================] - 1s 14ms/step - loss: 0.0380 - acc: 0.0283 - top5_acc: 0.1056 - top10_acc: 0.2019 - val_loss: 0.0428 - val_acc: 0.0000e+00 - val_top5_acc: 0.0417 - val_top10_acc: 0.0833\n",
            "Epoch 14/200\n",
            "103/103 [==============================] - 2s 15ms/step - loss: 0.0376 - acc: 0.0506 - top5_acc: 0.1495 - top10_acc: 0.2234 - val_loss: 0.0425 - val_acc: 0.0069 - val_top5_acc: 0.0486 - val_top10_acc: 0.1181\n",
            "Epoch 15/200\n",
            "103/103 [==============================] - 1s 14ms/step - loss: 0.0375 - acc: 0.0372 - top5_acc: 0.1417 - top10_acc: 0.2410 - val_loss: 0.0466 - val_acc: 0.0000e+00 - val_top5_acc: 0.0625 - val_top10_acc: 0.1042\n",
            "Epoch 16/200\n",
            "103/103 [==============================] - 1s 14ms/step - loss: 0.0370 - acc: 0.0490 - top5_acc: 0.1651 - top10_acc: 0.2630 - val_loss: 0.0456 - val_acc: 0.0069 - val_top5_acc: 0.0486 - val_top10_acc: 0.1042\n",
            "Epoch 17/200\n",
            "103/103 [==============================] - 2s 15ms/step - loss: 0.0364 - acc: 0.0604 - top5_acc: 0.1852 - top10_acc: 0.2805 - val_loss: 0.0440 - val_acc: 0.0069 - val_top5_acc: 0.0625 - val_top10_acc: 0.1181\n",
            "Epoch 18/200\n",
            "103/103 [==============================] - 1s 14ms/step - loss: 0.0363 - acc: 0.0491 - top5_acc: 0.1965 - top10_acc: 0.2968 - val_loss: 0.0447 - val_acc: 0.0069 - val_top5_acc: 0.0764 - val_top10_acc: 0.1181\n",
            "Epoch 19/200\n",
            "103/103 [==============================] - 1s 14ms/step - loss: 0.0364 - acc: 0.0611 - top5_acc: 0.1675 - top10_acc: 0.2728 - val_loss: 0.0470 - val_acc: 0.0139 - val_top5_acc: 0.0764 - val_top10_acc: 0.1250\n",
            "Epoch 20/200\n",
            "103/103 [==============================] - 2s 14ms/step - loss: 0.0355 - acc: 0.0781 - top5_acc: 0.2261 - top10_acc: 0.3229 - val_loss: 0.0477 - val_acc: 0.0208 - val_top5_acc: 0.0764 - val_top10_acc: 0.1319\n",
            "Epoch 21/200\n",
            "103/103 [==============================] - 1s 14ms/step - loss: 0.0354 - acc: 0.0754 - top5_acc: 0.2265 - top10_acc: 0.3328 - val_loss: 0.0444 - val_acc: 0.0139 - val_top5_acc: 0.0833 - val_top10_acc: 0.1667\n",
            "Epoch 22/200\n",
            "103/103 [==============================] - 1s 14ms/step - loss: 0.0345 - acc: 0.0990 - top5_acc: 0.2389 - top10_acc: 0.3616 - val_loss: 0.0480 - val_acc: 0.0139 - val_top5_acc: 0.0694 - val_top10_acc: 0.1111\n",
            "Epoch 23/200\n",
            "103/103 [==============================] - 1s 14ms/step - loss: 0.0347 - acc: 0.0839 - top5_acc: 0.2392 - top10_acc: 0.3641 - val_loss: 0.0452 - val_acc: 0.0139 - val_top5_acc: 0.0833 - val_top10_acc: 0.1528\n",
            "Epoch 24/200\n",
            "103/103 [==============================] - 1s 14ms/step - loss: 0.0341 - acc: 0.0876 - top5_acc: 0.2553 - top10_acc: 0.3892 - val_loss: 0.0508 - val_acc: 0.0000e+00 - val_top5_acc: 0.0764 - val_top10_acc: 0.1250\n",
            "Epoch 25/200\n",
            "103/103 [==============================] - 1s 14ms/step - loss: 0.0338 - acc: 0.1033 - top5_acc: 0.2644 - top10_acc: 0.3892 - val_loss: 0.0471 - val_acc: 0.0208 - val_top5_acc: 0.0833 - val_top10_acc: 0.1528\n",
            "Epoch 26/200\n",
            "103/103 [==============================] - 1s 14ms/step - loss: 0.0334 - acc: 0.0969 - top5_acc: 0.2801 - top10_acc: 0.4278 - val_loss: 0.0475 - val_acc: 0.0139 - val_top5_acc: 0.0903 - val_top10_acc: 0.1736\n",
            "Epoch 27/200\n",
            "103/103 [==============================] - 2s 14ms/step - loss: 0.0330 - acc: 0.1198 - top5_acc: 0.2951 - top10_acc: 0.4204 - val_loss: 0.0471 - val_acc: 0.0069 - val_top5_acc: 0.0972 - val_top10_acc: 0.1667\n",
            "Epoch 28/200\n",
            "103/103 [==============================] - 1s 14ms/step - loss: 0.0336 - acc: 0.0915 - top5_acc: 0.2747 - top10_acc: 0.4178 - val_loss: 0.0496 - val_acc: 0.0278 - val_top5_acc: 0.0625 - val_top10_acc: 0.1389\n",
            "Epoch 29/200\n",
            "103/103 [==============================] - 1s 14ms/step - loss: 0.0323 - acc: 0.1320 - top5_acc: 0.3328 - top10_acc: 0.4765 - val_loss: 0.0469 - val_acc: 0.0208 - val_top5_acc: 0.1042 - val_top10_acc: 0.2431\n",
            "Epoch 30/200\n",
            "103/103 [==============================] - 1s 14ms/step - loss: 0.0316 - acc: 0.1320 - top5_acc: 0.3411 - top10_acc: 0.4825 - val_loss: 0.0519 - val_acc: 0.0278 - val_top5_acc: 0.1181 - val_top10_acc: 0.2014\n",
            "Epoch 31/200\n",
            "103/103 [==============================] - 1s 14ms/step - loss: 0.0320 - acc: 0.1280 - top5_acc: 0.3512 - top10_acc: 0.4973 - val_loss: 0.0499 - val_acc: 0.0347 - val_top5_acc: 0.1389 - val_top10_acc: 0.1875\n",
            "Epoch 32/200\n",
            "103/103 [==============================] - 1s 14ms/step - loss: 0.0315 - acc: 0.1431 - top5_acc: 0.3592 - top10_acc: 0.5289 - val_loss: 0.0507 - val_acc: 0.0208 - val_top5_acc: 0.0903 - val_top10_acc: 0.1597\n",
            "Epoch 33/200\n",
            "103/103 [==============================] - 1s 14ms/step - loss: 0.0304 - acc: 0.1724 - top5_acc: 0.4126 - top10_acc: 0.5697 - val_loss: 0.0503 - val_acc: 0.0417 - val_top5_acc: 0.1111 - val_top10_acc: 0.1736\n",
            "Epoch 34/200\n",
            "103/103 [==============================] - 1s 14ms/step - loss: 0.0309 - acc: 0.1546 - top5_acc: 0.4022 - top10_acc: 0.5352 - val_loss: 0.0528 - val_acc: 0.0278 - val_top5_acc: 0.0903 - val_top10_acc: 0.1667\n",
            "Epoch 35/200\n",
            "103/103 [==============================] - 1s 14ms/step - loss: 0.0298 - acc: 0.1750 - top5_acc: 0.4311 - top10_acc: 0.5661 - val_loss: 0.0542 - val_acc: 0.0417 - val_top5_acc: 0.0972 - val_top10_acc: 0.1736\n",
            "Epoch 36/200\n",
            "103/103 [==============================] - 1s 14ms/step - loss: 0.0298 - acc: 0.1914 - top5_acc: 0.4218 - top10_acc: 0.5712 - val_loss: 0.0494 - val_acc: 0.0417 - val_top5_acc: 0.1111 - val_top10_acc: 0.1875\n",
            "Epoch 37/200\n",
            "103/103 [==============================] - 2s 15ms/step - loss: 0.0301 - acc: 0.1769 - top5_acc: 0.4113 - top10_acc: 0.5549 - val_loss: 0.0519 - val_acc: 0.0208 - val_top5_acc: 0.1319 - val_top10_acc: 0.1806\n",
            "Epoch 38/200\n",
            "103/103 [==============================] - 1s 14ms/step - loss: 0.0294 - acc: 0.2086 - top5_acc: 0.4512 - top10_acc: 0.5861 - val_loss: 0.0548 - val_acc: 0.0347 - val_top5_acc: 0.1042 - val_top10_acc: 0.1667\n",
            "Epoch 39/200\n",
            "103/103 [==============================] - 1s 14ms/step - loss: 0.0284 - acc: 0.2039 - top5_acc: 0.4771 - top10_acc: 0.6278 - val_loss: 0.0545 - val_acc: 0.0208 - val_top5_acc: 0.1111 - val_top10_acc: 0.1875\n",
            "Epoch 40/200\n",
            "103/103 [==============================] - 1s 14ms/step - loss: 0.0279 - acc: 0.2441 - top5_acc: 0.4965 - top10_acc: 0.6230 - val_loss: 0.0566 - val_acc: 0.0278 - val_top5_acc: 0.1111 - val_top10_acc: 0.1806\n",
            "Epoch 41/200\n",
            "103/103 [==============================] - 2s 16ms/step - loss: 0.0282 - acc: 0.2362 - top5_acc: 0.4898 - top10_acc: 0.6220 - val_loss: 0.0567 - val_acc: 0.0208 - val_top5_acc: 0.1042 - val_top10_acc: 0.1875\n",
            "Epoch 42/200\n",
            "103/103 [==============================] - 1s 14ms/step - loss: 0.0276 - acc: 0.2404 - top5_acc: 0.5073 - top10_acc: 0.6456 - val_loss: 0.0591 - val_acc: 0.0347 - val_top5_acc: 0.1111 - val_top10_acc: 0.1597\n",
            "Epoch 43/200\n",
            "103/103 [==============================] - 1s 14ms/step - loss: 0.0273 - acc: 0.2267 - top5_acc: 0.5137 - top10_acc: 0.6524 - val_loss: 0.0577 - val_acc: 0.0347 - val_top5_acc: 0.1111 - val_top10_acc: 0.2083\n",
            "Epoch 44/200\n",
            "103/103 [==============================] - 1s 14ms/step - loss: 0.0269 - acc: 0.2466 - top5_acc: 0.5307 - top10_acc: 0.6732 - val_loss: 0.0583 - val_acc: 0.0486 - val_top5_acc: 0.1528 - val_top10_acc: 0.2153\n",
            "Epoch 45/200\n",
            "103/103 [==============================] - 1s 14ms/step - loss: 0.0262 - acc: 0.2659 - top5_acc: 0.5292 - top10_acc: 0.6773 - val_loss: 0.0612 - val_acc: 0.0208 - val_top5_acc: 0.1250 - val_top10_acc: 0.2222\n",
            "Epoch 46/200\n",
            "103/103 [==============================] - 1s 14ms/step - loss: 0.0268 - acc: 0.2587 - top5_acc: 0.5394 - top10_acc: 0.6692 - val_loss: 0.0613 - val_acc: 0.0278 - val_top5_acc: 0.1389 - val_top10_acc: 0.1806\n",
            "Epoch 47/200\n",
            "103/103 [==============================] - 1s 14ms/step - loss: 0.0264 - acc: 0.2702 - top5_acc: 0.5400 - top10_acc: 0.7020 - val_loss: 0.0563 - val_acc: 0.0556 - val_top5_acc: 0.1458 - val_top10_acc: 0.2361\n",
            "Epoch 48/200\n",
            "103/103 [==============================] - 1s 14ms/step - loss: 0.0245 - acc: 0.3165 - top5_acc: 0.6279 - top10_acc: 0.7557 - val_loss: 0.0646 - val_acc: 0.0417 - val_top5_acc: 0.1111 - val_top10_acc: 0.1944\n",
            "Epoch 49/200\n",
            "103/103 [==============================] - 1s 14ms/step - loss: 0.0247 - acc: 0.3275 - top5_acc: 0.5911 - top10_acc: 0.7301 - val_loss: 0.0569 - val_acc: 0.0694 - val_top5_acc: 0.1250 - val_top10_acc: 0.2083\n",
            "Epoch 50/200\n",
            "103/103 [==============================] - 1s 14ms/step - loss: 0.0244 - acc: 0.3344 - top5_acc: 0.6248 - top10_acc: 0.7554 - val_loss: 0.0654 - val_acc: 0.0139 - val_top5_acc: 0.1250 - val_top10_acc: 0.1944\n",
            "Epoch 51/200\n",
            "103/103 [==============================] - 1s 14ms/step - loss: 0.0234 - acc: 0.3474 - top5_acc: 0.6516 - top10_acc: 0.7944 - val_loss: 0.0664 - val_acc: 0.0417 - val_top5_acc: 0.1319 - val_top10_acc: 0.2014\n",
            "Epoch 52/200\n",
            "103/103 [==============================] - 1s 14ms/step - loss: 0.0240 - acc: 0.3394 - top5_acc: 0.6357 - top10_acc: 0.7721 - val_loss: 0.0665 - val_acc: 0.0347 - val_top5_acc: 0.1181 - val_top10_acc: 0.1875\n",
            "Epoch 53/200\n",
            "103/103 [==============================] - 1s 14ms/step - loss: 0.0241 - acc: 0.3438 - top5_acc: 0.6193 - top10_acc: 0.7371 - val_loss: 0.0680 - val_acc: 0.0347 - val_top5_acc: 0.1111 - val_top10_acc: 0.2083\n",
            "Epoch 54/200\n",
            "103/103 [==============================] - 2s 15ms/step - loss: 0.0231 - acc: 0.3586 - top5_acc: 0.6699 - top10_acc: 0.7838 - val_loss: 0.0713 - val_acc: 0.0347 - val_top5_acc: 0.1111 - val_top10_acc: 0.1875\n",
            "Epoch 55/200\n",
            "103/103 [==============================] - 2s 15ms/step - loss: 0.0237 - acc: 0.3383 - top5_acc: 0.6405 - top10_acc: 0.7743 - val_loss: 0.0656 - val_acc: 0.0556 - val_top5_acc: 0.1528 - val_top10_acc: 0.2292\n",
            "Epoch 56/200\n",
            "103/103 [==============================] - 1s 14ms/step - loss: 0.0221 - acc: 0.4069 - top5_acc: 0.6768 - top10_acc: 0.8070 - val_loss: 0.0739 - val_acc: 0.0486 - val_top5_acc: 0.1181 - val_top10_acc: 0.2014\n",
            "Epoch 57/200\n",
            "103/103 [==============================] - 1s 14ms/step - loss: 0.0218 - acc: 0.3967 - top5_acc: 0.6971 - top10_acc: 0.8156 - val_loss: 0.0719 - val_acc: 0.0278 - val_top5_acc: 0.1458 - val_top10_acc: 0.2361\n",
            "Epoch 58/200\n",
            "103/103 [==============================] - 2s 15ms/step - loss: 0.0210 - acc: 0.4279 - top5_acc: 0.7319 - top10_acc: 0.8476 - val_loss: 0.0698 - val_acc: 0.0278 - val_top5_acc: 0.1319 - val_top10_acc: 0.2500\n",
            "Epoch 59/200\n",
            "103/103 [==============================] - 1s 14ms/step - loss: 0.0210 - acc: 0.4455 - top5_acc: 0.7211 - top10_acc: 0.8403 - val_loss: 0.0744 - val_acc: 0.0417 - val_top5_acc: 0.1319 - val_top10_acc: 0.2292\n",
            "Epoch 60/200\n",
            "103/103 [==============================] - 1s 14ms/step - loss: 0.0213 - acc: 0.4287 - top5_acc: 0.7276 - top10_acc: 0.8290 - val_loss: 0.0757 - val_acc: 0.0347 - val_top5_acc: 0.1389 - val_top10_acc: 0.2222\n",
            "Epoch 61/200\n",
            "103/103 [==============================] - 1s 14ms/step - loss: 0.0200 - acc: 0.4897 - top5_acc: 0.7559 - top10_acc: 0.8591 - val_loss: 0.0759 - val_acc: 0.0417 - val_top5_acc: 0.1458 - val_top10_acc: 0.2083\n",
            "Epoch 62/200\n",
            "103/103 [==============================] - 2s 15ms/step - loss: 0.0205 - acc: 0.4463 - top5_acc: 0.7313 - top10_acc: 0.8383 - val_loss: 0.0783 - val_acc: 0.0417 - val_top5_acc: 0.1458 - val_top10_acc: 0.2222\n",
            "Epoch 63/200\n",
            "103/103 [==============================] - 1s 14ms/step - loss: 0.0192 - acc: 0.4794 - top5_acc: 0.7709 - top10_acc: 0.8778 - val_loss: 0.0794 - val_acc: 0.0417 - val_top5_acc: 0.1389 - val_top10_acc: 0.2014\n",
            "Epoch 64/200\n",
            "103/103 [==============================] - 2s 14ms/step - loss: 0.0199 - acc: 0.4619 - top5_acc: 0.7621 - top10_acc: 0.8728 - val_loss: 0.0798 - val_acc: 0.0278 - val_top5_acc: 0.1528 - val_top10_acc: 0.2153\n",
            "Epoch 65/200\n",
            "103/103 [==============================] - 1s 14ms/step - loss: 0.0200 - acc: 0.4842 - top5_acc: 0.7478 - top10_acc: 0.8451 - val_loss: 0.0836 - val_acc: 0.0347 - val_top5_acc: 0.0972 - val_top10_acc: 0.2083\n",
            "Epoch 66/200\n",
            "103/103 [==============================] - 1s 14ms/step - loss: 0.0189 - acc: 0.4904 - top5_acc: 0.7673 - top10_acc: 0.8824 - val_loss: 0.0810 - val_acc: 0.0417 - val_top5_acc: 0.1319 - val_top10_acc: 0.2500\n",
            "Epoch 67/200\n",
            "103/103 [==============================] - 1s 14ms/step - loss: 0.0187 - acc: 0.4983 - top5_acc: 0.7849 - top10_acc: 0.8695 - val_loss: 0.0837 - val_acc: 0.0208 - val_top5_acc: 0.0972 - val_top10_acc: 0.2083\n",
            "Epoch 68/200\n",
            "103/103 [==============================] - 1s 14ms/step - loss: 0.0180 - acc: 0.5292 - top5_acc: 0.7982 - top10_acc: 0.9037 - val_loss: 0.0869 - val_acc: 0.0347 - val_top5_acc: 0.1458 - val_top10_acc: 0.2014\n",
            "Epoch 69/200\n",
            "103/103 [==============================] - 1s 14ms/step - loss: 0.0175 - acc: 0.5272 - top5_acc: 0.8244 - top10_acc: 0.9060 - val_loss: 0.0840 - val_acc: 0.0347 - val_top5_acc: 0.1319 - val_top10_acc: 0.2153\n",
            "Epoch 70/200\n",
            "103/103 [==============================] - 1s 14ms/step - loss: 0.0175 - acc: 0.5522 - top5_acc: 0.8124 - top10_acc: 0.9012 - val_loss: 0.0894 - val_acc: 0.0278 - val_top5_acc: 0.1458 - val_top10_acc: 0.2083\n",
            "Epoch 71/200\n",
            "103/103 [==============================] - 1s 14ms/step - loss: 0.0173 - acc: 0.5519 - top5_acc: 0.8134 - top10_acc: 0.9099 - val_loss: 0.0851 - val_acc: 0.0486 - val_top5_acc: 0.1458 - val_top10_acc: 0.2361\n",
            "Epoch 72/200\n",
            "103/103 [==============================] - 1s 14ms/step - loss: 0.0176 - acc: 0.5467 - top5_acc: 0.8034 - top10_acc: 0.8879 - val_loss: 0.0885 - val_acc: 0.0417 - val_top5_acc: 0.1528 - val_top10_acc: 0.2361\n",
            "Epoch 73/200\n",
            "103/103 [==============================] - 1s 14ms/step - loss: 0.0170 - acc: 0.5417 - top5_acc: 0.8248 - top10_acc: 0.9130 - val_loss: 0.0884 - val_acc: 0.0486 - val_top5_acc: 0.1389 - val_top10_acc: 0.2431\n",
            "Epoch 74/200\n",
            "103/103 [==============================] - 1s 14ms/step - loss: 0.0162 - acc: 0.5655 - top5_acc: 0.8530 - top10_acc: 0.9154 - val_loss: 0.0910 - val_acc: 0.0417 - val_top5_acc: 0.1250 - val_top10_acc: 0.2292\n",
            "Epoch 75/200\n",
            "103/103 [==============================] - 1s 14ms/step - loss: 0.0158 - acc: 0.6106 - top5_acc: 0.8551 - top10_acc: 0.9262 - val_loss: 0.0881 - val_acc: 0.0278 - val_top5_acc: 0.1458 - val_top10_acc: 0.2153\n",
            "Epoch 76/200\n",
            "103/103 [==============================] - 2s 14ms/step - loss: 0.0157 - acc: 0.6143 - top5_acc: 0.8536 - top10_acc: 0.9213 - val_loss: 0.0915 - val_acc: 0.0347 - val_top5_acc: 0.1250 - val_top10_acc: 0.1944\n",
            "Epoch 77/200\n",
            "103/103 [==============================] - 2s 15ms/step - loss: 0.0155 - acc: 0.6012 - top5_acc: 0.8526 - top10_acc: 0.9213 - val_loss: 0.0918 - val_acc: 0.0347 - val_top5_acc: 0.1667 - val_top10_acc: 0.2431\n",
            "Epoch 78/200\n",
            "103/103 [==============================] - 1s 14ms/step - loss: 0.0155 - acc: 0.5909 - top5_acc: 0.8647 - top10_acc: 0.9320 - val_loss: 0.0903 - val_acc: 0.0417 - val_top5_acc: 0.1389 - val_top10_acc: 0.2500\n",
            "Epoch 79/200\n",
            "103/103 [==============================] - 2s 16ms/step - loss: 0.0148 - acc: 0.6219 - top5_acc: 0.8802 - top10_acc: 0.9423 - val_loss: 0.0975 - val_acc: 0.0417 - val_top5_acc: 0.1250 - val_top10_acc: 0.2222\n",
            "Epoch 80/200\n",
            "103/103 [==============================] - 1s 14ms/step - loss: 0.0151 - acc: 0.6067 - top5_acc: 0.8741 - top10_acc: 0.9404 - val_loss: 0.0960 - val_acc: 0.0417 - val_top5_acc: 0.1597 - val_top10_acc: 0.2500\n",
            "Epoch 81/200\n",
            "103/103 [==============================] - 1s 14ms/step - loss: 0.0147 - acc: 0.6375 - top5_acc: 0.8792 - top10_acc: 0.9386 - val_loss: 0.0992 - val_acc: 0.0347 - val_top5_acc: 0.1250 - val_top10_acc: 0.2500\n",
            "Epoch 82/200\n",
            "103/103 [==============================] - 1s 14ms/step - loss: 0.0144 - acc: 0.6567 - top5_acc: 0.8846 - top10_acc: 0.9313 - val_loss: 0.0978 - val_acc: 0.0347 - val_top5_acc: 0.1597 - val_top10_acc: 0.2500\n",
            "Epoch 83/200\n",
            "103/103 [==============================] - 1s 14ms/step - loss: 0.0137 - acc: 0.6626 - top5_acc: 0.8830 - top10_acc: 0.9376 - val_loss: 0.0999 - val_acc: 0.0347 - val_top5_acc: 0.1181 - val_top10_acc: 0.2361\n",
            "Epoch 84/200\n",
            "103/103 [==============================] - 1s 14ms/step - loss: 0.0135 - acc: 0.6706 - top5_acc: 0.8955 - top10_acc: 0.9565 - val_loss: 0.1013 - val_acc: 0.0278 - val_top5_acc: 0.1181 - val_top10_acc: 0.2569\n",
            "Epoch 85/200\n",
            "103/103 [==============================] - 2s 16ms/step - loss: 0.0133 - acc: 0.6551 - top5_acc: 0.9027 - top10_acc: 0.9513 - val_loss: 0.1000 - val_acc: 0.0486 - val_top5_acc: 0.1944 - val_top10_acc: 0.2708\n",
            "Epoch 86/200\n",
            "103/103 [==============================] - 1s 14ms/step - loss: 0.0141 - acc: 0.6507 - top5_acc: 0.8830 - top10_acc: 0.9452 - val_loss: 0.1045 - val_acc: 0.0486 - val_top5_acc: 0.1736 - val_top10_acc: 0.2639\n",
            "Epoch 87/200\n",
            "103/103 [==============================] - 1s 14ms/step - loss: 0.0135 - acc: 0.6757 - top5_acc: 0.8976 - top10_acc: 0.9465 - val_loss: 0.1120 - val_acc: 0.0347 - val_top5_acc: 0.1250 - val_top10_acc: 0.2153\n",
            "Epoch 88/200\n",
            "103/103 [==============================] - 1s 14ms/step - loss: 0.0135 - acc: 0.6746 - top5_acc: 0.9080 - top10_acc: 0.9550 - val_loss: 0.1058 - val_acc: 0.0347 - val_top5_acc: 0.1736 - val_top10_acc: 0.2569\n",
            "Epoch 89/200\n",
            "103/103 [==============================] - 1s 14ms/step - loss: 0.0129 - acc: 0.7081 - top5_acc: 0.9038 - top10_acc: 0.9475 - val_loss: 0.1098 - val_acc: 0.0278 - val_top5_acc: 0.1597 - val_top10_acc: 0.2292\n",
            "Epoch 90/200\n",
            "103/103 [==============================] - 1s 14ms/step - loss: 0.0123 - acc: 0.7091 - top5_acc: 0.9193 - top10_acc: 0.9616 - val_loss: 0.1074 - val_acc: 0.0278 - val_top5_acc: 0.1389 - val_top10_acc: 0.2153\n",
            "Epoch 91/200\n",
            "103/103 [==============================] - 1s 14ms/step - loss: 0.0122 - acc: 0.7168 - top5_acc: 0.9174 - top10_acc: 0.9644 - val_loss: 0.1062 - val_acc: 0.0278 - val_top5_acc: 0.1597 - val_top10_acc: 0.2778\n",
            "Epoch 92/200\n",
            "103/103 [==============================] - 2s 15ms/step - loss: 0.0123 - acc: 0.6928 - top5_acc: 0.9138 - top10_acc: 0.9624 - val_loss: 0.1102 - val_acc: 0.0417 - val_top5_acc: 0.1806 - val_top10_acc: 0.2917\n",
            "Epoch 93/200\n",
            "103/103 [==============================] - 1s 14ms/step - loss: 0.0120 - acc: 0.7073 - top5_acc: 0.9267 - top10_acc: 0.9696 - val_loss: 0.1155 - val_acc: 0.0347 - val_top5_acc: 0.1181 - val_top10_acc: 0.2361\n",
            "Epoch 94/200\n",
            "103/103 [==============================] - 2s 14ms/step - loss: 0.0116 - acc: 0.7272 - top5_acc: 0.9252 - top10_acc: 0.9758 - val_loss: 0.1080 - val_acc: 0.0347 - val_top5_acc: 0.1389 - val_top10_acc: 0.2778\n",
            "Epoch 95/200\n",
            "103/103 [==============================] - 2s 14ms/step - loss: 0.0112 - acc: 0.7525 - top5_acc: 0.9412 - top10_acc: 0.9751 - val_loss: 0.1085 - val_acc: 0.0347 - val_top5_acc: 0.1389 - val_top10_acc: 0.2708\n",
            "Epoch 96/200\n",
            "103/103 [==============================] - 2s 15ms/step - loss: 0.0112 - acc: 0.7418 - top5_acc: 0.9345 - top10_acc: 0.9741 - val_loss: 0.1147 - val_acc: 0.0417 - val_top5_acc: 0.1389 - val_top10_acc: 0.2708\n",
            "Epoch 97/200\n",
            "103/103 [==============================] - 2s 15ms/step - loss: 0.0119 - acc: 0.7189 - top5_acc: 0.9158 - top10_acc: 0.9564 - val_loss: 0.1168 - val_acc: 0.0486 - val_top5_acc: 0.1528 - val_top10_acc: 0.2569\n",
            "Epoch 98/200\n",
            "103/103 [==============================] - 1s 14ms/step - loss: 0.0118 - acc: 0.7215 - top5_acc: 0.9337 - top10_acc: 0.9657 - val_loss: 0.1189 - val_acc: 0.0556 - val_top5_acc: 0.1389 - val_top10_acc: 0.2361\n",
            "Epoch 99/200\n",
            "103/103 [==============================] - 2s 15ms/step - loss: 0.0109 - acc: 0.7495 - top5_acc: 0.9325 - top10_acc: 0.9706 - val_loss: 0.1218 - val_acc: 0.0278 - val_top5_acc: 0.1597 - val_top10_acc: 0.2569\n",
            "Epoch 100/200\n",
            "103/103 [==============================] - 2s 15ms/step - loss: 0.0108 - acc: 0.7589 - top5_acc: 0.9370 - top10_acc: 0.9790 - val_loss: 0.1208 - val_acc: 0.0417 - val_top5_acc: 0.1667 - val_top10_acc: 0.2500\n",
            "Epoch 101/200\n",
            "103/103 [==============================] - 1s 14ms/step - loss: 0.0101 - acc: 0.7655 - top5_acc: 0.9448 - top10_acc: 0.9830 - val_loss: 0.1302 - val_acc: 0.0486 - val_top5_acc: 0.1389 - val_top10_acc: 0.1944\n",
            "Epoch 102/200\n",
            "103/103 [==============================] - 2s 14ms/step - loss: 0.0100 - acc: 0.7960 - top5_acc: 0.9553 - top10_acc: 0.9822 - val_loss: 0.1244 - val_acc: 0.0417 - val_top5_acc: 0.1389 - val_top10_acc: 0.2153\n",
            "Epoch 103/200\n",
            "103/103 [==============================] - 1s 14ms/step - loss: 0.0106 - acc: 0.7546 - top5_acc: 0.9452 - top10_acc: 0.9875 - val_loss: 0.1230 - val_acc: 0.0278 - val_top5_acc: 0.1806 - val_top10_acc: 0.2778\n",
            "Epoch 104/200\n",
            "103/103 [==============================] - 2s 15ms/step - loss: 0.0106 - acc: 0.7479 - top5_acc: 0.9465 - top10_acc: 0.9842 - val_loss: 0.1244 - val_acc: 0.0417 - val_top5_acc: 0.1667 - val_top10_acc: 0.2500\n",
            "Epoch 105/200\n",
            "103/103 [==============================] - 2s 15ms/step - loss: 0.0102 - acc: 0.7851 - top5_acc: 0.9536 - top10_acc: 0.9844 - val_loss: 0.1315 - val_acc: 0.0417 - val_top5_acc: 0.1806 - val_top10_acc: 0.2361\n",
            "Epoch 106/200\n",
            "103/103 [==============================] - 2s 15ms/step - loss: 0.0096 - acc: 0.8072 - top5_acc: 0.9530 - top10_acc: 0.9806 - val_loss: 0.1273 - val_acc: 0.0556 - val_top5_acc: 0.1458 - val_top10_acc: 0.2292\n",
            "Epoch 107/200\n",
            "103/103 [==============================] - 2s 15ms/step - loss: 0.0095 - acc: 0.7998 - top5_acc: 0.9656 - top10_acc: 0.9878 - val_loss: 0.1264 - val_acc: 0.0347 - val_top5_acc: 0.1528 - val_top10_acc: 0.2569\n",
            "Epoch 108/200\n",
            "103/103 [==============================] - 2s 15ms/step - loss: 0.0093 - acc: 0.7987 - top5_acc: 0.9679 - top10_acc: 0.9900 - val_loss: 0.1365 - val_acc: 0.0347 - val_top5_acc: 0.1528 - val_top10_acc: 0.2778\n",
            "Epoch 109/200\n",
            "103/103 [==============================] - 2s 15ms/step - loss: 0.0089 - acc: 0.8216 - top5_acc: 0.9699 - top10_acc: 0.9875 - val_loss: 0.1304 - val_acc: 0.0347 - val_top5_acc: 0.1458 - val_top10_acc: 0.2569\n",
            "Epoch 110/200\n",
            "103/103 [==============================] - 1s 14ms/step - loss: 0.0086 - acc: 0.8083 - top5_acc: 0.9603 - top10_acc: 0.9909 - val_loss: 0.1288 - val_acc: 0.0417 - val_top5_acc: 0.1528 - val_top10_acc: 0.2569\n",
            "Epoch 111/200\n",
            "103/103 [==============================] - 1s 14ms/step - loss: 0.0084 - acc: 0.8310 - top5_acc: 0.9765 - top10_acc: 0.9941 - val_loss: 0.1330 - val_acc: 0.0347 - val_top5_acc: 0.1667 - val_top10_acc: 0.2847\n",
            "Epoch 112/200\n",
            "103/103 [==============================] - 1s 14ms/step - loss: 0.0090 - acc: 0.8027 - top5_acc: 0.9784 - top10_acc: 0.9934 - val_loss: 0.1339 - val_acc: 0.0347 - val_top5_acc: 0.1736 - val_top10_acc: 0.2500\n",
            "Epoch 113/200\n",
            "103/103 [==============================] - 1s 14ms/step - loss: 0.0089 - acc: 0.8031 - top5_acc: 0.9651 - top10_acc: 0.9914 - val_loss: 0.1308 - val_acc: 0.0208 - val_top5_acc: 0.1667 - val_top10_acc: 0.2986\n",
            "Epoch 114/200\n",
            "103/103 [==============================] - 1s 14ms/step - loss: 0.0085 - acc: 0.8247 - top5_acc: 0.9650 - top10_acc: 0.9861 - val_loss: 0.1327 - val_acc: 0.0278 - val_top5_acc: 0.1319 - val_top10_acc: 0.2500\n",
            "Epoch 115/200\n",
            "103/103 [==============================] - 2s 15ms/step - loss: 0.0084 - acc: 0.8285 - top5_acc: 0.9707 - top10_acc: 0.9895 - val_loss: 0.1380 - val_acc: 0.0417 - val_top5_acc: 0.1250 - val_top10_acc: 0.2639\n",
            "Epoch 116/200\n",
            "103/103 [==============================] - 2s 15ms/step - loss: 0.0080 - acc: 0.8293 - top5_acc: 0.9752 - top10_acc: 0.9930 - val_loss: 0.1396 - val_acc: 0.0347 - val_top5_acc: 0.1389 - val_top10_acc: 0.2569\n",
            "Epoch 117/200\n",
            "103/103 [==============================] - 2s 15ms/step - loss: 0.0079 - acc: 0.8324 - top5_acc: 0.9784 - top10_acc: 0.9925 - val_loss: 0.1401 - val_acc: 0.0486 - val_top5_acc: 0.1597 - val_top10_acc: 0.2431\n",
            "Epoch 118/200\n",
            "103/103 [==============================] - 1s 14ms/step - loss: 0.0079 - acc: 0.8199 - top5_acc: 0.9726 - top10_acc: 0.9899 - val_loss: 0.1469 - val_acc: 0.0208 - val_top5_acc: 0.1250 - val_top10_acc: 0.2431\n",
            "Epoch 119/200\n",
            "103/103 [==============================] - 2s 15ms/step - loss: 0.0084 - acc: 0.8275 - top5_acc: 0.9817 - top10_acc: 0.9903 - val_loss: 0.1339 - val_acc: 0.0347 - val_top5_acc: 0.1875 - val_top10_acc: 0.2569\n",
            "Epoch 120/200\n",
            "103/103 [==============================] - 2s 15ms/step - loss: 0.0088 - acc: 0.7936 - top5_acc: 0.9681 - top10_acc: 0.9894 - val_loss: 0.1307 - val_acc: 0.0486 - val_top5_acc: 0.1597 - val_top10_acc: 0.2917\n",
            "Epoch 121/200\n",
            "103/103 [==============================] - 2s 15ms/step - loss: 0.0081 - acc: 0.8288 - top5_acc: 0.9712 - top10_acc: 0.9918 - val_loss: 0.1384 - val_acc: 0.0347 - val_top5_acc: 0.1458 - val_top10_acc: 0.2569\n",
            "Epoch 122/200\n",
            "103/103 [==============================] - 1s 14ms/step - loss: 0.0075 - acc: 0.8542 - top5_acc: 0.9810 - top10_acc: 0.9950 - val_loss: 0.1441 - val_acc: 0.0417 - val_top5_acc: 0.1875 - val_top10_acc: 0.2847\n",
            "Epoch 123/200\n",
            "103/103 [==============================] - 1s 14ms/step - loss: 0.0078 - acc: 0.8344 - top5_acc: 0.9771 - top10_acc: 0.9930 - val_loss: 0.1440 - val_acc: 0.0486 - val_top5_acc: 0.1319 - val_top10_acc: 0.2708\n",
            "Epoch 124/200\n",
            "103/103 [==============================] - 2s 15ms/step - loss: 0.0076 - acc: 0.8445 - top5_acc: 0.9786 - top10_acc: 0.9951 - val_loss: 0.1432 - val_acc: 0.0278 - val_top5_acc: 0.1597 - val_top10_acc: 0.2569\n",
            "Epoch 125/200\n",
            "103/103 [==============================] - 2s 15ms/step - loss: 0.0075 - acc: 0.8494 - top5_acc: 0.9804 - top10_acc: 0.9956 - val_loss: 0.1467 - val_acc: 0.0556 - val_top5_acc: 0.1389 - val_top10_acc: 0.2292\n",
            "Epoch 126/200\n",
            "103/103 [==============================] - 1s 14ms/step - loss: 0.0069 - acc: 0.8792 - top5_acc: 0.9757 - top10_acc: 0.9858 - val_loss: 0.1498 - val_acc: 0.0417 - val_top5_acc: 0.1667 - val_top10_acc: 0.2708\n",
            "Epoch 127/200\n",
            "103/103 [==============================] - 2s 15ms/step - loss: 0.0069 - acc: 0.8699 - top5_acc: 0.9883 - top10_acc: 0.9969 - val_loss: 0.1524 - val_acc: 0.0417 - val_top5_acc: 0.1181 - val_top10_acc: 0.2361\n",
            "Epoch 128/200\n",
            "103/103 [==============================] - 2s 15ms/step - loss: 0.0072 - acc: 0.8584 - top5_acc: 0.9769 - top10_acc: 0.9937 - val_loss: 0.1472 - val_acc: 0.0347 - val_top5_acc: 0.1667 - val_top10_acc: 0.2569\n",
            "Epoch 129/200\n",
            "103/103 [==============================] - 2s 16ms/step - loss: 0.0065 - acc: 0.8855 - top5_acc: 0.9847 - top10_acc: 0.9943 - val_loss: 0.1485 - val_acc: 0.0417 - val_top5_acc: 0.1597 - val_top10_acc: 0.2708\n",
            "Epoch 130/200\n",
            "103/103 [==============================] - 2s 15ms/step - loss: 0.0067 - acc: 0.8586 - top5_acc: 0.9848 - top10_acc: 0.9943 - val_loss: 0.1559 - val_acc: 0.0417 - val_top5_acc: 0.1319 - val_top10_acc: 0.2500\n",
            "Epoch 131/200\n",
            "103/103 [==============================] - 2s 15ms/step - loss: 0.0064 - acc: 0.8723 - top5_acc: 0.9887 - top10_acc: 0.9952 - val_loss: 0.1511 - val_acc: 0.0417 - val_top5_acc: 0.1458 - val_top10_acc: 0.2778\n",
            "Epoch 132/200\n",
            "103/103 [==============================] - 1s 14ms/step - loss: 0.0070 - acc: 0.8612 - top5_acc: 0.9811 - top10_acc: 0.9958 - val_loss: 0.1556 - val_acc: 0.0278 - val_top5_acc: 0.1597 - val_top10_acc: 0.2431\n",
            "Epoch 133/200\n",
            "103/103 [==============================] - 2s 15ms/step - loss: 0.0067 - acc: 0.8707 - top5_acc: 0.9860 - top10_acc: 0.9959 - val_loss: 0.1580 - val_acc: 0.0486 - val_top5_acc: 0.1528 - val_top10_acc: 0.2361\n",
            "Epoch 134/200\n",
            "103/103 [==============================] - 2s 15ms/step - loss: 0.0065 - acc: 0.8770 - top5_acc: 0.9887 - top10_acc: 0.9981 - val_loss: 0.1547 - val_acc: 0.0556 - val_top5_acc: 0.1806 - val_top10_acc: 0.2500\n",
            "Epoch 135/200\n",
            "103/103 [==============================] - 2s 15ms/step - loss: 0.0062 - acc: 0.8891 - top5_acc: 0.9847 - top10_acc: 0.9957 - val_loss: 0.1490 - val_acc: 0.0486 - val_top5_acc: 0.1667 - val_top10_acc: 0.2639\n",
            "Epoch 136/200\n",
            "103/103 [==============================] - 2s 15ms/step - loss: 0.0067 - acc: 0.8735 - top5_acc: 0.9838 - top10_acc: 0.9945 - val_loss: 0.1635 - val_acc: 0.0278 - val_top5_acc: 0.1528 - val_top10_acc: 0.2569\n",
            "Epoch 137/200\n",
            "103/103 [==============================] - 2s 15ms/step - loss: 0.0059 - acc: 0.8934 - top5_acc: 0.9936 - top10_acc: 0.9983 - val_loss: 0.1470 - val_acc: 0.0486 - val_top5_acc: 0.1736 - val_top10_acc: 0.2847\n",
            "Epoch 138/200\n",
            "103/103 [==============================] - 2s 14ms/step - loss: 0.0060 - acc: 0.8972 - top5_acc: 0.9833 - top10_acc: 0.9955 - val_loss: 0.1567 - val_acc: 0.0486 - val_top5_acc: 0.1806 - val_top10_acc: 0.2847\n",
            "Epoch 139/200\n",
            "103/103 [==============================] - 2s 15ms/step - loss: 0.0061 - acc: 0.8802 - top5_acc: 0.9831 - top10_acc: 0.9973 - val_loss: 0.1567 - val_acc: 0.0347 - val_top5_acc: 0.1667 - val_top10_acc: 0.3056\n",
            "Epoch 140/200\n",
            "103/103 [==============================] - 2s 15ms/step - loss: 0.0059 - acc: 0.9016 - top5_acc: 0.9809 - top10_acc: 0.9936 - val_loss: 0.1527 - val_acc: 0.0556 - val_top5_acc: 0.1528 - val_top10_acc: 0.2778\n",
            "Epoch 141/200\n",
            "103/103 [==============================] - 2s 15ms/step - loss: 0.0064 - acc: 0.8823 - top5_acc: 0.9872 - top10_acc: 0.9976 - val_loss: 0.1497 - val_acc: 0.0417 - val_top5_acc: 0.2014 - val_top10_acc: 0.2569\n",
            "Epoch 142/200\n",
            "103/103 [==============================] - 2s 15ms/step - loss: 0.0062 - acc: 0.8969 - top5_acc: 0.9865 - top10_acc: 0.9932 - val_loss: 0.1620 - val_acc: 0.0556 - val_top5_acc: 0.1597 - val_top10_acc: 0.2639\n",
            "Epoch 143/200\n",
            "103/103 [==============================] - 2s 15ms/step - loss: 0.0059 - acc: 0.8903 - top5_acc: 0.9905 - top10_acc: 0.9994 - val_loss: 0.1563 - val_acc: 0.0625 - val_top5_acc: 0.1736 - val_top10_acc: 0.2778\n",
            "Epoch 144/200\n",
            "103/103 [==============================] - 2s 15ms/step - loss: 0.0058 - acc: 0.8813 - top5_acc: 0.9886 - top10_acc: 0.9984 - val_loss: 0.1648 - val_acc: 0.0625 - val_top5_acc: 0.1528 - val_top10_acc: 0.2361\n",
            "Epoch 145/200\n",
            "103/103 [==============================] - 2s 15ms/step - loss: 0.0059 - acc: 0.8881 - top5_acc: 0.9867 - top10_acc: 0.9945 - val_loss: 0.1686 - val_acc: 0.0347 - val_top5_acc: 0.1528 - val_top10_acc: 0.2569\n",
            "Epoch 146/200\n",
            "103/103 [==============================] - 2s 15ms/step - loss: 0.0058 - acc: 0.8968 - top5_acc: 0.9908 - top10_acc: 0.9993 - val_loss: 0.1770 - val_acc: 0.0625 - val_top5_acc: 0.1667 - val_top10_acc: 0.2361\n",
            "Epoch 147/200\n",
            "103/103 [==============================] - 2s 15ms/step - loss: 0.0054 - acc: 0.8949 - top5_acc: 0.9890 - top10_acc: 0.9961 - val_loss: 0.1581 - val_acc: 0.0556 - val_top5_acc: 0.1806 - val_top10_acc: 0.2708\n",
            "Epoch 148/200\n",
            "103/103 [==============================] - 2s 15ms/step - loss: 0.0053 - acc: 0.9079 - top5_acc: 0.9880 - top10_acc: 0.9981 - val_loss: 0.1701 - val_acc: 0.0486 - val_top5_acc: 0.1597 - val_top10_acc: 0.2500\n",
            "Epoch 149/200\n",
            "103/103 [==============================] - 2s 15ms/step - loss: 0.0054 - acc: 0.9030 - top5_acc: 0.9914 - top10_acc: 0.9968 - val_loss: 0.1689 - val_acc: 0.0486 - val_top5_acc: 0.1528 - val_top10_acc: 0.2431\n",
            "Epoch 150/200\n",
            "103/103 [==============================] - 2s 15ms/step - loss: 0.0062 - acc: 0.8830 - top5_acc: 0.9849 - top10_acc: 0.9969 - val_loss: 0.1578 - val_acc: 0.0764 - val_top5_acc: 0.1597 - val_top10_acc: 0.2639\n",
            "Epoch 151/200\n",
            "103/103 [==============================] - 2s 15ms/step - loss: 0.0054 - acc: 0.9041 - top5_acc: 0.9957 - top10_acc: 0.9996 - val_loss: 0.1608 - val_acc: 0.0556 - val_top5_acc: 0.1736 - val_top10_acc: 0.2708\n",
            "Epoch 152/200\n",
            "103/103 [==============================] - 2s 15ms/step - loss: 0.0051 - acc: 0.9211 - top5_acc: 0.9902 - top10_acc: 0.9975 - val_loss: 0.1606 - val_acc: 0.0625 - val_top5_acc: 0.1597 - val_top10_acc: 0.2708\n",
            "Epoch 153/200\n",
            "103/103 [==============================] - 2s 14ms/step - loss: 0.0054 - acc: 0.9079 - top5_acc: 0.9899 - top10_acc: 0.9963 - val_loss: 0.1658 - val_acc: 0.0417 - val_top5_acc: 0.1667 - val_top10_acc: 0.2986\n",
            "Epoch 154/200\n",
            "103/103 [==============================] - 2s 15ms/step - loss: 0.0049 - acc: 0.9184 - top5_acc: 0.9956 - top10_acc: 0.9993 - val_loss: 0.1649 - val_acc: 0.0625 - val_top5_acc: 0.1667 - val_top10_acc: 0.2708\n",
            "Epoch 155/200\n",
            "103/103 [==============================] - 2s 15ms/step - loss: 0.0048 - acc: 0.9258 - top5_acc: 0.9899 - top10_acc: 0.9972 - val_loss: 0.1641 - val_acc: 0.0347 - val_top5_acc: 0.1667 - val_top10_acc: 0.2500\n",
            "Epoch 156/200\n",
            "103/103 [==============================] - 2s 15ms/step - loss: 0.0053 - acc: 0.9159 - top5_acc: 0.9883 - top10_acc: 0.9972 - val_loss: 0.1689 - val_acc: 0.0417 - val_top5_acc: 0.1875 - val_top10_acc: 0.2708\n",
            "Epoch 157/200\n",
            "103/103 [==============================] - 2s 15ms/step - loss: 0.0052 - acc: 0.9107 - top5_acc: 0.9917 - top10_acc: 0.9972 - val_loss: 0.1746 - val_acc: 0.0556 - val_top5_acc: 0.1389 - val_top10_acc: 0.2500\n",
            "Epoch 158/200\n",
            "103/103 [==============================] - 2s 15ms/step - loss: 0.0049 - acc: 0.9252 - top5_acc: 0.9918 - top10_acc: 0.9970 - val_loss: 0.1622 - val_acc: 0.0486 - val_top5_acc: 0.1736 - val_top10_acc: 0.2708\n",
            "Epoch 159/200\n",
            "103/103 [==============================] - 2s 15ms/step - loss: 0.0053 - acc: 0.9031 - top5_acc: 0.9894 - top10_acc: 0.9979 - val_loss: 0.1692 - val_acc: 0.0556 - val_top5_acc: 0.1736 - val_top10_acc: 0.2778\n",
            "Epoch 160/200\n",
            "103/103 [==============================] - 2s 15ms/step - loss: 0.0058 - acc: 0.8934 - top5_acc: 0.9827 - top10_acc: 0.9957 - val_loss: 0.1719 - val_acc: 0.0556 - val_top5_acc: 0.1250 - val_top10_acc: 0.2778\n",
            "Epoch 161/200\n",
            "103/103 [==============================] - 2s 15ms/step - loss: 0.0048 - acc: 0.9273 - top5_acc: 0.9851 - top10_acc: 0.9933 - val_loss: 0.1797 - val_acc: 0.0625 - val_top5_acc: 0.1667 - val_top10_acc: 0.2708\n",
            "Epoch 162/200\n",
            "103/103 [==============================] - 2s 15ms/step - loss: 0.0048 - acc: 0.9276 - top5_acc: 0.9860 - top10_acc: 0.9973 - val_loss: 0.1759 - val_acc: 0.0486 - val_top5_acc: 0.1458 - val_top10_acc: 0.2986\n",
            "Epoch 163/200\n",
            "103/103 [==============================] - 2s 15ms/step - loss: 0.0048 - acc: 0.9140 - top5_acc: 0.9898 - top10_acc: 0.9946 - val_loss: 0.1771 - val_acc: 0.0556 - val_top5_acc: 0.1667 - val_top10_acc: 0.2569\n",
            "Epoch 164/200\n",
            "103/103 [==============================] - 2s 15ms/step - loss: 0.0044 - acc: 0.9286 - top5_acc: 0.9919 - top10_acc: 0.9965 - val_loss: 0.1816 - val_acc: 0.0486 - val_top5_acc: 0.1458 - val_top10_acc: 0.2639\n",
            "Epoch 165/200\n",
            "103/103 [==============================] - 2s 15ms/step - loss: 0.0047 - acc: 0.9139 - top5_acc: 0.9935 - top10_acc: 0.9982 - val_loss: 0.1771 - val_acc: 0.0486 - val_top5_acc: 0.1806 - val_top10_acc: 0.2847\n",
            "Epoch 166/200\n",
            "103/103 [==============================] - 2s 15ms/step - loss: 0.0043 - acc: 0.9361 - top5_acc: 0.9965 - top10_acc: 0.9982 - val_loss: 0.1803 - val_acc: 0.0556 - val_top5_acc: 0.1736 - val_top10_acc: 0.2500\n",
            "Epoch 167/200\n",
            "103/103 [==============================] - 2s 15ms/step - loss: 0.0044 - acc: 0.9315 - top5_acc: 0.9937 - top10_acc: 0.9996 - val_loss: 0.1896 - val_acc: 0.0486 - val_top5_acc: 0.1458 - val_top10_acc: 0.2361\n",
            "Epoch 168/200\n",
            "103/103 [==============================] - 2s 15ms/step - loss: 0.0045 - acc: 0.9427 - top5_acc: 0.9938 - top10_acc: 0.9952 - val_loss: 0.1735 - val_acc: 0.0556 - val_top5_acc: 0.1528 - val_top10_acc: 0.2778\n",
            "Epoch 169/200\n",
            "103/103 [==============================] - 2s 15ms/step - loss: 0.0048 - acc: 0.9193 - top5_acc: 0.9950 - top10_acc: 0.9983 - val_loss: 0.1809 - val_acc: 0.0556 - val_top5_acc: 0.1528 - val_top10_acc: 0.2708\n",
            "Epoch 170/200\n",
            "103/103 [==============================] - 2s 15ms/step - loss: 0.0047 - acc: 0.9166 - top5_acc: 0.9948 - top10_acc: 0.9982 - val_loss: 0.1821 - val_acc: 0.0486 - val_top5_acc: 0.1667 - val_top10_acc: 0.2431\n",
            "Epoch 171/200\n",
            "103/103 [==============================] - 2s 15ms/step - loss: 0.0043 - acc: 0.9257 - top5_acc: 0.9955 - top10_acc: 0.9984 - val_loss: 0.1758 - val_acc: 0.0417 - val_top5_acc: 0.1875 - val_top10_acc: 0.2917\n",
            "Epoch 172/200\n",
            "103/103 [==============================] - 2s 15ms/step - loss: 0.0043 - acc: 0.9322 - top5_acc: 0.9947 - top10_acc: 0.9964 - val_loss: 0.1740 - val_acc: 0.0486 - val_top5_acc: 0.1806 - val_top10_acc: 0.2847\n",
            "Epoch 173/200\n",
            "103/103 [==============================] - 2s 15ms/step - loss: 0.0040 - acc: 0.9327 - top5_acc: 0.9965 - top10_acc: 1.0000 - val_loss: 0.1774 - val_acc: 0.0347 - val_top5_acc: 0.1736 - val_top10_acc: 0.2639\n",
            "Epoch 174/200\n",
            "103/103 [==============================] - 2s 15ms/step - loss: 0.0047 - acc: 0.9232 - top5_acc: 0.9958 - top10_acc: 0.9990 - val_loss: 0.1785 - val_acc: 0.0417 - val_top5_acc: 0.2014 - val_top10_acc: 0.3194\n",
            "Epoch 175/200\n",
            "103/103 [==============================] - 2s 15ms/step - loss: 0.0042 - acc: 0.9380 - top5_acc: 0.9919 - top10_acc: 0.9988 - val_loss: 0.1818 - val_acc: 0.0625 - val_top5_acc: 0.1667 - val_top10_acc: 0.2569\n",
            "Epoch 176/200\n",
            "103/103 [==============================] - 2s 15ms/step - loss: 0.0043 - acc: 0.9352 - top5_acc: 0.9950 - top10_acc: 0.9976 - val_loss: 0.1864 - val_acc: 0.0556 - val_top5_acc: 0.1736 - val_top10_acc: 0.2778\n",
            "Epoch 177/200\n",
            "103/103 [==============================] - 2s 15ms/step - loss: 0.0041 - acc: 0.9450 - top5_acc: 0.9972 - top10_acc: 0.9998 - val_loss: 0.1834 - val_acc: 0.0347 - val_top5_acc: 0.1806 - val_top10_acc: 0.2847\n",
            "Epoch 178/200\n",
            "103/103 [==============================] - 2s 15ms/step - loss: 0.0043 - acc: 0.9434 - top5_acc: 0.9966 - top10_acc: 0.9993 - val_loss: 0.1945 - val_acc: 0.0556 - val_top5_acc: 0.1528 - val_top10_acc: 0.2708\n",
            "Epoch 179/200\n",
            "103/103 [==============================] - 2s 15ms/step - loss: 0.0041 - acc: 0.9464 - top5_acc: 0.9965 - top10_acc: 0.9974 - val_loss: 0.1765 - val_acc: 0.0556 - val_top5_acc: 0.1597 - val_top10_acc: 0.2708\n",
            "Epoch 180/200\n",
            "103/103 [==============================] - 2s 17ms/step - loss: 0.0037 - acc: 0.9463 - top5_acc: 0.9955 - top10_acc: 0.9994 - val_loss: 0.1952 - val_acc: 0.0417 - val_top5_acc: 0.1319 - val_top10_acc: 0.2569\n",
            "Epoch 181/200\n",
            "103/103 [==============================] - 2s 15ms/step - loss: 0.0036 - acc: 0.9402 - top5_acc: 0.9977 - top10_acc: 0.9987 - val_loss: 0.1811 - val_acc: 0.0556 - val_top5_acc: 0.1806 - val_top10_acc: 0.2639\n",
            "Epoch 182/200\n",
            "103/103 [==============================] - 2s 15ms/step - loss: 0.0042 - acc: 0.9287 - top5_acc: 0.9944 - top10_acc: 0.9994 - val_loss: 0.1958 - val_acc: 0.0417 - val_top5_acc: 0.1736 - val_top10_acc: 0.2569\n",
            "Epoch 183/200\n",
            "103/103 [==============================] - 2s 15ms/step - loss: 0.0039 - acc: 0.9362 - top5_acc: 0.9972 - top10_acc: 0.9984 - val_loss: 0.1896 - val_acc: 0.0764 - val_top5_acc: 0.1597 - val_top10_acc: 0.3056\n",
            "Epoch 184/200\n",
            "103/103 [==============================] - 2s 15ms/step - loss: 0.0037 - acc: 0.9436 - top5_acc: 0.9954 - top10_acc: 0.9993 - val_loss: 0.1910 - val_acc: 0.0417 - val_top5_acc: 0.1597 - val_top10_acc: 0.2639\n",
            "Epoch 185/200\n",
            "103/103 [==============================] - 2s 16ms/step - loss: 0.0040 - acc: 0.9502 - top5_acc: 0.9965 - top10_acc: 0.9992 - val_loss: 0.1857 - val_acc: 0.0417 - val_top5_acc: 0.1736 - val_top10_acc: 0.2847\n",
            "Epoch 186/200\n",
            "103/103 [==============================] - 2s 15ms/step - loss: 0.0035 - acc: 0.9465 - top5_acc: 0.9933 - top10_acc: 0.9984 - val_loss: 0.1919 - val_acc: 0.0417 - val_top5_acc: 0.1736 - val_top10_acc: 0.2708\n",
            "Epoch 187/200\n",
            "103/103 [==============================] - 2s 16ms/step - loss: 0.0038 - acc: 0.9571 - top5_acc: 0.9948 - top10_acc: 0.9984 - val_loss: 0.1828 - val_acc: 0.0417 - val_top5_acc: 0.1458 - val_top10_acc: 0.2639\n",
            "Epoch 188/200\n",
            "103/103 [==============================] - 2s 15ms/step - loss: 0.0038 - acc: 0.9455 - top5_acc: 0.9958 - top10_acc: 0.9985 - val_loss: 0.2011 - val_acc: 0.0278 - val_top5_acc: 0.1250 - val_top10_acc: 0.2361\n",
            "Epoch 189/200\n",
            "103/103 [==============================] - 2s 15ms/step - loss: 0.0039 - acc: 0.9516 - top5_acc: 0.9961 - top10_acc: 0.9997 - val_loss: 0.1835 - val_acc: 0.0486 - val_top5_acc: 0.1875 - val_top10_acc: 0.2708\n",
            "Epoch 190/200\n",
            "103/103 [==============================] - 2s 15ms/step - loss: 0.0036 - acc: 0.9414 - top5_acc: 0.9990 - top10_acc: 0.9992 - val_loss: 0.1817 - val_acc: 0.0556 - val_top5_acc: 0.1806 - val_top10_acc: 0.3125\n",
            "Epoch 191/200\n",
            "103/103 [==============================] - 2s 15ms/step - loss: 0.0036 - acc: 0.9458 - top5_acc: 0.9953 - top10_acc: 1.0000 - val_loss: 0.1857 - val_acc: 0.0556 - val_top5_acc: 0.1944 - val_top10_acc: 0.2639\n",
            "Epoch 192/200\n",
            "103/103 [==============================] - 2s 16ms/step - loss: 0.0038 - acc: 0.9483 - top5_acc: 0.9945 - top10_acc: 0.9990 - val_loss: 0.1877 - val_acc: 0.0625 - val_top5_acc: 0.1806 - val_top10_acc: 0.2708\n",
            "Epoch 193/200\n",
            "103/103 [==============================] - 2s 15ms/step - loss: 0.0035 - acc: 0.9526 - top5_acc: 0.9958 - top10_acc: 0.9982 - val_loss: 0.1885 - val_acc: 0.0556 - val_top5_acc: 0.1597 - val_top10_acc: 0.2917\n",
            "Epoch 194/200\n",
            "103/103 [==============================] - 2s 15ms/step - loss: 0.0038 - acc: 0.9314 - top5_acc: 0.9914 - top10_acc: 0.9992 - val_loss: 0.1966 - val_acc: 0.0486 - val_top5_acc: 0.1597 - val_top10_acc: 0.2431\n",
            "Epoch 195/200\n",
            "103/103 [==============================] - 2s 15ms/step - loss: 0.0031 - acc: 0.9604 - top5_acc: 0.9983 - top10_acc: 0.9999 - val_loss: 0.1923 - val_acc: 0.0486 - val_top5_acc: 0.1667 - val_top10_acc: 0.2847\n",
            "Epoch 196/200\n",
            "103/103 [==============================] - 2s 15ms/step - loss: 0.0033 - acc: 0.9563 - top5_acc: 0.9952 - top10_acc: 0.9982 - val_loss: 0.1934 - val_acc: 0.0417 - val_top5_acc: 0.1806 - val_top10_acc: 0.2778\n",
            "Epoch 197/200\n",
            "103/103 [==============================] - 2s 15ms/step - loss: 0.0032 - acc: 0.9606 - top5_acc: 0.9987 - top10_acc: 0.9999 - val_loss: 0.1981 - val_acc: 0.0486 - val_top5_acc: 0.1667 - val_top10_acc: 0.2639\n",
            "Epoch 198/200\n",
            "103/103 [==============================] - 2s 16ms/step - loss: 0.0031 - acc: 0.9638 - top5_acc: 0.9967 - top10_acc: 1.0000 - val_loss: 0.1881 - val_acc: 0.0625 - val_top5_acc: 0.1597 - val_top10_acc: 0.2847\n",
            "Epoch 199/200\n",
            "103/103 [==============================] - 2s 16ms/step - loss: 0.0037 - acc: 0.9555 - top5_acc: 0.9978 - top10_acc: 1.0000 - val_loss: 0.1959 - val_acc: 0.0417 - val_top5_acc: 0.1875 - val_top10_acc: 0.2639\n",
            "Epoch 200/200\n",
            "103/103 [==============================] - 2s 16ms/step - loss: 0.0035 - acc: 0.9412 - top5_acc: 0.9954 - top10_acc: 0.9981 - val_loss: 0.2023 - val_acc: 0.0625 - val_top5_acc: 0.1528 - val_top10_acc: 0.2569\n"
          ],
          "name": "stdout"
        }
      ]
    },
    {
      "cell_type": "code",
      "metadata": {
        "colab": {
          "base_uri": "https://localhost:8080/",
          "height": 1000
        },
        "id": "et0OroQFBuW_",
        "outputId": "5f026cd0-0053-441c-88e2-5ed0a449b574"
      },
      "source": [
        "plot_training_analysis()"
      ],
      "execution_count": 57,
      "outputs": [
        {
          "output_type": "display_data",
          "data": {
            "image/png": "[encoded data removed]",
            "text/plain": [
              "<Figure size 432x288 with 1 Axes>"
            ]
          },
          "metadata": {
            "tags": [],
            "needs_background": "light"
          }
        },
        {
          "output_type": "display_data",
          "data": {
            "image/png": "[encoded data removed]",
            "text/plain": [
              "<Figure size 432x288 with 1 Axes>"
            ]
          },
          "metadata": {
            "tags": [],
            "needs_background": "light"
          }
        },
        {
          "output_type": "display_data",
          "data": {
            "image/png": "[encoded data removed]",
            "text/plain": [
              "<Figure size 432x288 with 1 Axes>"
            ]
          },
          "metadata": {
            "tags": [],
            "needs_background": "light"
          }
        },
        {
          "output_type": "display_data",
          "data": {
            "image/png": "[encoded data removed]",
            "text/plain": [
              "<Figure size 432x288 with 1 Axes>"
            ]
          },
          "metadata": {
            "tags": [],
            "needs_background": "light"
          }
        },
        {
          "output_type": "display_data",
          "data": {
            "text/plain": [
              "<Figure size 432x288 with 0 Axes>"
            ]
          },
          "metadata": {
            "tags": []
          }
        }
      ]
    },
    {
      "cell_type": "markdown",
      "metadata": {
        "id": "CXcry7nywr-j"
      },
      "source": [
        "autoencoder classifier"
      ]
    },
    {
      "cell_type": "code",
      "metadata": {
        "id": "FojC6Obw_DAN"
      },
      "source": [
        ""
      ],
      "execution_count": null,
      "outputs": []
    }
  ]
}